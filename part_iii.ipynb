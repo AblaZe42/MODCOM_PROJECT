{
 "cells": [
  {
   "cell_type": "code",
   "execution_count": 85,
   "metadata": {},
   "outputs": [],
   "source": [
    "# Import data\n",
    "import pandas as pd\n",
    "import numpy as np\n",
    "import matplotlib.pyplot as plt\n",
    "\n",
    "# Logistic Regression\n",
    "from sklearn.linear_model import LogisticRegression\n",
    "import warnings"
   ]
  },
  {
   "cell_type": "markdown",
   "metadata": {},
   "source": [
    "# 1) CPDs"
   ]
  },
  {
   "cell_type": "markdown",
   "metadata": {},
   "source": [
    "## Fit logistic regression"
   ]
  },
  {
   "cell_type": "code",
   "execution_count": 86,
   "metadata": {},
   "outputs": [
    {
     "name": "stdout",
     "output_type": "stream",
     "text": [
      "   X1  X2  X3  X4  X5  X6  X7  X8  X9  X10  X11\n",
      "0   1   1   0   1   1   1   1   1   1    1    1\n",
      "1   0   1   0   1   0   1   1   0   1    0    0\n",
      "2   1   1   1   1   1   1   1   1   0    0    1\n",
      "3   1   0   0   1   1   1   1   0   1    1    1\n",
      "4   1   1   1   1   1   0   1   1   1    1    0\n"
     ]
    }
   ],
   "source": [
    "elimination_scope = [(\"X1\", ['X7', 'X8']),(\"X2\", ['X4', 'X8']),(\"X3\", ['X9', 'X8']),\n",
    "                     (\"X5\", ['X9', 'X8']),(\"X4\", ['X11', 'X8', 'X9']),(\"X6\", ['X7', 'X10']),\n",
    "                     (\"X7\", []),(\"X8\", []),(\"X9\", ['X10', 'X6']), (\"X10\", ['X7']),(\"X11\", ['X8', 'X9'])]\n",
    "\n",
    "df = pd.read_csv('dataset/50K_forward_simulation.csv')\n",
    "print(df.head())"
   ]
  },
  {
   "cell_type": "code",
   "execution_count": 87,
   "metadata": {},
   "outputs": [
    {
     "name": "stdout",
     "output_type": "stream",
     "text": [
      "[[0, 0, 0], [0, 0, 1], [0, 1, 0], [0, 1, 1], [1, 0, 0], [1, 0, 1], [1, 1, 0], [1, 1, 1]]\n"
     ]
    }
   ],
   "source": [
    "# Generate possible binary combinations in the same format as predict_proba requires\n",
    "def generate_binary_combinations(n):\n",
    "    # Python magic to generate all possible combinations of 0 and 1 in a string format\n",
    "    str_combinations = [format(i, f\"0{n}b\") for i in range(2**n)]\n",
    "    lst_combinations = []\n",
    "\n",
    "    # Loops through all the string and converts them to a list of integers\n",
    "    for elm in str_combinations:\n",
    "        lst_elm = list(elm)\n",
    "        for i in range(len(lst_elm)):\n",
    "            lst_elm[i] = int(lst_elm[i])\n",
    "        lst_combinations.append(lst_elm)\n",
    "    return lst_combinations\n",
    "\n",
    "print(generate_binary_combinations(3))\n"
   ]
  },
  {
   "cell_type": "code",
   "execution_count": 88,
   "metadata": {},
   "outputs": [
    {
     "data": {
      "text/html": [
       "<div>\n",
       "<style scoped>\n",
       "    .dataframe tbody tr th:only-of-type {\n",
       "        vertical-align: middle;\n",
       "    }\n",
       "\n",
       "    .dataframe tbody tr th {\n",
       "        vertical-align: top;\n",
       "    }\n",
       "\n",
       "    .dataframe thead th {\n",
       "        text-align: right;\n",
       "    }\n",
       "</style>\n",
       "<table border=\"1\" class=\"dataframe\">\n",
       "  <thead>\n",
       "    <tr style=\"text-align: right;\">\n",
       "      <th></th>\n",
       "      <th>X8</th>\n",
       "      <th>X9</th>\n",
       "      <th>X11</th>\n",
       "      <th>prob</th>\n",
       "    </tr>\n",
       "  </thead>\n",
       "  <tbody>\n",
       "    <tr>\n",
       "      <th>0</th>\n",
       "      <td>0</td>\n",
       "      <td>0</td>\n",
       "      <td>0</td>\n",
       "      <td>0.534918</td>\n",
       "    </tr>\n",
       "    <tr>\n",
       "      <th>1</th>\n",
       "      <td>0</td>\n",
       "      <td>0</td>\n",
       "      <td>1</td>\n",
       "      <td>0.740490</td>\n",
       "    </tr>\n",
       "    <tr>\n",
       "      <th>2</th>\n",
       "      <td>0</td>\n",
       "      <td>1</td>\n",
       "      <td>0</td>\n",
       "      <td>0.739466</td>\n",
       "    </tr>\n",
       "    <tr>\n",
       "      <th>3</th>\n",
       "      <td>0</td>\n",
       "      <td>1</td>\n",
       "      <td>1</td>\n",
       "      <td>0.875644</td>\n",
       "    </tr>\n",
       "    <tr>\n",
       "      <th>4</th>\n",
       "      <td>1</td>\n",
       "      <td>0</td>\n",
       "      <td>0</td>\n",
       "      <td>0.725492</td>\n",
       "    </tr>\n",
       "    <tr>\n",
       "      <th>5</th>\n",
       "      <td>1</td>\n",
       "      <td>0</td>\n",
       "      <td>1</td>\n",
       "      <td>0.867667</td>\n",
       "    </tr>\n",
       "    <tr>\n",
       "      <th>6</th>\n",
       "      <td>1</td>\n",
       "      <td>1</td>\n",
       "      <td>0</td>\n",
       "      <td>0.867055</td>\n",
       "    </tr>\n",
       "    <tr>\n",
       "      <th>7</th>\n",
       "      <td>1</td>\n",
       "      <td>1</td>\n",
       "      <td>1</td>\n",
       "      <td>0.941793</td>\n",
       "    </tr>\n",
       "  </tbody>\n",
       "</table>\n",
       "</div>"
      ],
      "text/plain": [
       "   X8  X9  X11      prob\n",
       "0   0   0    0  0.534918\n",
       "1   0   0    1  0.740490\n",
       "2   0   1    0  0.739466\n",
       "3   0   1    1  0.875644\n",
       "4   1   0    0  0.725492\n",
       "5   1   0    1  0.867667\n",
       "6   1   1    0  0.867055\n",
       "7   1   1    1  0.941793"
      ]
     },
     "execution_count": 88,
     "metadata": {},
     "output_type": "execute_result"
    }
   ],
   "source": [
    "inp_1 = ['X8', 'X9', 'X11']\n",
    "out_1 = ['X4'] \n",
    "\n",
    "def log_reg_cpd(inp, out):\n",
    "    # Splitting data into predictors (X) and outcome (y)\n",
    "    X = df[inp]\n",
    "    y = df[out]\n",
    "\n",
    "    # Fit the logistic regression model\n",
    "    warnings.filterwarnings(\"ignore\")\n",
    "    model = LogisticRegression()\n",
    "    model.fit(X, y)\n",
    "\n",
    "    # Predict probabilities for all combinations of 1's and 0's from parents\n",
    "    combinations = generate_binary_combinations(len(inp))\n",
    "    predictions = model.predict_proba(combinations)\n",
    "\n",
    "    # Extracting the probabilities of child = 1\n",
    "    probabilities = predictions[:, 1]\n",
    "\n",
    "    # The two list combinations and probabilities are combined into a single list\n",
    "    for i in range (len(combinations)):\n",
    "        combinations[i].append(probabilities[i])\n",
    "\n",
    "    #Generate columns\n",
    "    inp.append('prob') \n",
    "\n",
    "    probabilities_df = pd.DataFrame(columns=inp, data=combinations)\n",
    "\n",
    "    return probabilities_df\n",
    "\n",
    "log_reg_cpd(inp_1, out_1)"
   ]
  }
 ],
 "metadata": {
  "kernelspec": {
   "display_name": "py_main",
   "language": "python",
   "name": "python3"
  },
  "language_info": {
   "codemirror_mode": {
    "name": "ipython",
    "version": 3
   },
   "file_extension": ".py",
   "mimetype": "text/x-python",
   "name": "python",
   "nbconvert_exporter": "python",
   "pygments_lexer": "ipython3",
   "version": "3.11.8"
  }
 },
 "nbformat": 4,
 "nbformat_minor": 2
}
