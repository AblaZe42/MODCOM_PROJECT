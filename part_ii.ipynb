{
 "cells": [
  {
   "cell_type": "code",
   "execution_count": 2,
   "metadata": {},
   "outputs": [],
   "source": [
    "import pandas as pd \n",
    "import numpy as np\n",
    "import matplotlib.pyplot as plt\n",
    "\n",
    "from itertools import product"
   ]
  },
  {
   "cell_type": "markdown",
   "metadata": {},
   "source": [
    "# Variable Elimination for the moralized graph\n",
    "\n",
    "Implement inference algorithms for computing the conditional distribution of $X_{10}$ and $X_{11}$ given the observed variables for any choice of parameters $\\psi^{(1)}, \\ldots, \\psi^{(11)}$."
   ]
  },
  {
   "cell_type": "markdown",
   "metadata": {},
   "source": [
    "### Synthetic data"
   ]
  },
  {
   "cell_type": "code",
   "execution_count": 3,
   "metadata": {},
   "outputs": [],
   "source": [
    "alpha = 0.5"
   ]
  },
  {
   "cell_type": "markdown",
   "metadata": {},
   "source": [
    "Elemination order"
   ]
  },
  {
   "cell_type": "code",
   "execution_count": 4,
   "metadata": {},
   "outputs": [],
   "source": [
    "# The scope consist of the parents and the node itself\n",
    "variables_to_eliminate = ['X1', 'X2', 'X3', 'X4', 'X5', 'X6', 'X7', 'X8', 'X9']\n",
    "elimination_scope = [(\"X1\", ['X7', 'X8']),(\"X2\", ['X4', 'X8']),(\"X3\", ['X9', 'X8']),\n",
    "                     (\"X5\", ['X9', 'X8']),(\"X4\", ['X11', 'X8', 'X9']),(\"X6\", ['X7', 'X10']),\n",
    "                     (\"X7\", []),(\"X8\", []),(\"X9\", ['X10', 'X6']), (\"X10\", ['X7']),(\"X11\", ['X8', 'X9'])]\n"
   ]
  },
  {
   "cell_type": "markdown",
   "metadata": {},
   "source": [
    "### From CPD to factor representation"
   ]
  },
  {
   "cell_type": "code",
   "execution_count": 5,
   "metadata": {},
   "outputs": [],
   "source": [
    "def create_factor(variable: str, parent_list: list):\n",
    "    \"\"\"\n",
    "    Creates a dataframe with all possible combinations of outcomes for parent- and child nodes\n",
    "\n",
    "    Arguments:\n",
    "    variable (string): The name of the child node, 'Xi'\n",
    "    parent_list (list): A list of strings, representing the parent nodes ['Xj', 'Xk']\n",
    "\n",
    "    Returns:\n",
    "    pandas.DataFrame: A dataframe with all possible outcomes\n",
    "    \"\"\"\n",
    "    d = 1 + len(parent_list)\n",
    "    columns = parent_list + [variable]\n",
    "    df = pd.DataFrame(product([0,1],repeat=d),columns=columns)\n",
    "    return df\n",
    "\n",
    "def cpd_factor(variable: str, parent_list: list, alpha: float):\n",
    "    \"\"\" \n",
    "    Creates a factor using the create_factor() function, and adds a factor value to each outcome \n",
    "\n",
    "    Arguments:\n",
    "    variable (string): The name of the child node\n",
    "    parent_list (list): The names of the parent nodes\n",
    "    alpha (float): The alpha parameter\n",
    "\n",
    "    Returns:\n",
    "    pandas.DataFrame: A factor, in the form of a pandas dataframe\n",
    "\n",
    "    \"\"\"\n",
    "    cpd = create_factor(variable, parent_list)\n",
    "    variables = list(cpd.columns)\n",
    "    n = len(variables)\n",
    "    cpd_ = cpd.copy() \n",
    "    if n == 1:\n",
    "        cpd_[\"prob\"] = 1 - alpha\n",
    "        return cpd_\n",
    "    else:\n",
    "        child = variables[n-1]\n",
    "        # generate factor \n",
    "        parents = cpd_.iloc[:,:-1].copy()\n",
    "        parents[\"sum\"] = parents.sum(axis=1)\n",
    "        cpd_[\"prob\"] = 1 - (alpha ** (1 + parents[\"sum\"]))\n",
    "        # dataframe.where() updates the probability where condition is false\n",
    "        # St. we can compute the probability of P(X=0|parents) = 1 - P(X=1|parents)\n",
    "        cpd_[\"prob\"].where(cpd_[f\"{child}\"] == 1, 1-cpd_[\"prob\"],axis=0,inplace=True)\n",
    "        return cpd_\n",
    "\n"
   ]
  },
  {
   "cell_type": "code",
   "execution_count": 6,
   "metadata": {},
   "outputs": [],
   "source": [
    "# Example use    \n",
    "# factor_test = cpd_factor(elimination_scope[2][0], elimination_scope[2][1], alpha)\n",
    "# factor_test"
   ]
  },
  {
   "cell_type": "code",
   "execution_count": 7,
   "metadata": {},
   "outputs": [],
   "source": [
    "# Generate factors for all nodes\n",
    "# list form: [(factor, variable name), ... ]\n",
    "factor_list = []\n",
    "for elm in elimination_scope:\n",
    "    name = 'phi_' + str(elm[0])\n",
    "    cpd = cpd_factor(elm[0], elm[1], alpha)\n",
    "    factor_list.append((cpd, name))"
   ]
  },
  {
   "cell_type": "code",
   "execution_count": 8,
   "metadata": {},
   "outputs": [],
   "source": [
    "# Factor for X1\n",
    "# print(factor_list[0])"
   ]
  },
  {
   "cell_type": "markdown",
   "metadata": {},
   "source": [
    "# Sum product"
   ]
  },
  {
   "cell_type": "code",
   "execution_count": 9,
   "metadata": {},
   "outputs": [],
   "source": [
    "def factor_product(factor_1: pd.DataFrame, factor_2: pd.DataFrame):\n",
    "    \"\"\"\n",
    "    Multiplies two factors \n",
    "\n",
    "    Arguments:\n",
    "    factor1 (pandas.DataFrame): a factor in the form of a dataframe\n",
    "    factor2 (pandas.DataFrame): a factor in the form of a dataframe\n",
    "\n",
    "    Returns:\n",
    "    new_factor (pandas.DataFrame): A new factor, joined at the common nodes, with the factor values multiplied\n",
    "\n",
    "    \"\"\"\n",
    "    # List of all common nodes to join on\n",
    "    nodes_to_join = factor_1.columns.intersection(factor_2.columns)\n",
    "    nodes_to_join = nodes_to_join.drop(\"prob\")\n",
    "    nodes = list(nodes_to_join)\n",
    "\n",
    "    # Inner join the factors by common nodes\n",
    "    new_factor = factor_1.merge(factor_2, how='inner', on=nodes)\n",
    "    new_factor[\"prob\"] = new_factor[\"prob_x\"]*new_factor[\"prob_y\"] # Multiply the probabilities\n",
    "    new_factor = new_factor.drop(columns=[\"prob_x\",\"prob_y\"])\n",
    "    return new_factor\n",
    "    "
   ]
  },
  {
   "cell_type": "code",
   "execution_count": 10,
   "metadata": {},
   "outputs": [],
   "source": [
    "# Example use - multiplication of factors\n",
    "# factor_product(factor_list[0][0], factor_list[1][0])"
   ]
  },
  {
   "cell_type": "code",
   "execution_count": 11,
   "metadata": {},
   "outputs": [],
   "source": [
    "# From algorithm 9.1 in the book (p. 298)\n",
    "def sum_product_eliminate_var(factors : list, var : str, print_info = False):\n",
    "    \"\"\"\n",
    "    Eliminates one variable and multiplies all factors with that variable in their scope\n",
    "\n",
    "    Arguments:\n",
    "    factors (list): The set of all factors currently in the network\n",
    "    var (str): The name of the variable to be eliminated\n",
    "    print_info (bool): Command to print debugging information or not\n",
    "\n",
    "    Returns: \n",
    "    list: A list containing the factors without the eliminated variable in the scope plus the product of the factors with the eliminated variable in the scope \n",
    "    \"\"\"\n",
    "    factors_list = [i[0] for i in factors] # Factors\n",
    "    names_list = [i[1] for i in factors] # Names of factors\n",
    "\n",
    "    lst_scope = []   # Factors in scope\n",
    "    lst_scope_i = [] # Names of factors in scope   \n",
    "    lst_not_scope = [] # Factors not in scope\n",
    "    lst_not_scope_i = [] # Names of factors not in scope\n",
    "\n",
    "    # Split factors into variable in scope and variable not in scope\n",
    "    for i in range(0, len(factors_list)):\n",
    "        if var in factors_list[i].columns:\n",
    "            lst_scope.append(factors_list[i])\n",
    "            lst_scope_i.append(names_list[i])\n",
    "        else:\n",
    "            lst_not_scope.append(factors_list[i])\n",
    "            lst_not_scope_i.append(names_list[i])\n",
    "\n",
    "    # Multiply all factors with variable in scope\n",
    "    factor_ = lst_scope[0]\n",
    "    for i in range(1, len(lst_scope)):\n",
    "        factor_ = factor_product(factor_, lst_scope[i])\n",
    "\n",
    "    # All variables that should not be marginalized\n",
    "    col = list(factor_.columns[factor_.columns != var].drop(\"prob\")) \n",
    "\n",
    "    # Marginalize the variable / sum out variable\n",
    "    tau = factor_.groupby(col, as_index = False)['prob'].sum()\n",
    "    tau_name = 'tau_' + str(var) \n",
    "\n",
    "    # Add the new factor to the list of factors not in scope\n",
    "    lst_not_scope = lst_not_scope + [tau]\n",
    "    lst_not_scope_i = lst_not_scope_i + [tau_name]\n",
    "    \n",
    "    # Debugging prints\n",
    "    if print_info:\n",
    "        for elm in lst_scope:\n",
    "            print(elm.columns)\n",
    "        print(lst_scope_i)\n",
    "\n",
    "    return list(zip(lst_not_scope, lst_not_scope_i))\n",
    "\n"
   ]
  },
  {
   "cell_type": "code",
   "execution_count": 12,
   "metadata": {},
   "outputs": [
    {
     "name": "stdout",
     "output_type": "stream",
     "text": [
      "[(   X4  X8  X2   prob\n",
      "0   0   0   0  0.500\n",
      "1   0   0   1  0.500\n",
      "2   0   1   0  0.250\n",
      "3   0   1   1  0.750\n",
      "4   1   0   0  0.250\n",
      "5   1   0   1  0.750\n",
      "6   1   1   0  0.125\n",
      "7   1   1   1  0.875, 'phi_X2'), (   X9  X8  X3   prob\n",
      "0   0   0   0  0.500\n",
      "1   0   0   1  0.500\n",
      "2   0   1   0  0.250\n",
      "3   0   1   1  0.750\n",
      "4   1   0   0  0.250\n",
      "5   1   0   1  0.750\n",
      "6   1   1   0  0.125\n",
      "7   1   1   1  0.875, 'phi_X3'), (   X9  X8  X5   prob\n",
      "0   0   0   0  0.500\n",
      "1   0   0   1  0.500\n",
      "2   0   1   0  0.250\n",
      "3   0   1   1  0.750\n",
      "4   1   0   0  0.250\n",
      "5   1   0   1  0.750\n",
      "6   1   1   0  0.125\n",
      "7   1   1   1  0.875, 'phi_X5'), (    X11  X8  X9  X4    prob\n",
      "0     0   0   0   0  0.5000\n",
      "1     0   0   0   1  0.5000\n",
      "2     0   0   1   0  0.2500\n",
      "3     0   0   1   1  0.7500\n",
      "4     0   1   0   0  0.2500\n",
      "5     0   1   0   1  0.7500\n",
      "6     0   1   1   0  0.1250\n",
      "7     0   1   1   1  0.8750\n",
      "8     1   0   0   0  0.2500\n",
      "9     1   0   0   1  0.7500\n",
      "10    1   0   1   0  0.1250\n",
      "11    1   0   1   1  0.8750\n",
      "12    1   1   0   0  0.1250\n",
      "13    1   1   0   1  0.8750\n",
      "14    1   1   1   0  0.0625\n",
      "15    1   1   1   1  0.9375, 'phi_X4'), (   X7  X10  X6   prob\n",
      "0   0    0   0  0.500\n",
      "1   0    0   1  0.500\n",
      "2   0    1   0  0.250\n",
      "3   0    1   1  0.750\n",
      "4   1    0   0  0.250\n",
      "5   1    0   1  0.750\n",
      "6   1    1   0  0.125\n",
      "7   1    1   1  0.875, 'phi_X6'), (   X7  prob\n",
      "0   0   0.5\n",
      "1   1   0.5, 'phi_X7'), (   X8  prob\n",
      "0   0   0.5\n",
      "1   1   0.5, 'phi_X8'), (   X10  X6  X9   prob\n",
      "0    0   0   0  0.500\n",
      "1    0   0   1  0.500\n",
      "2    0   1   0  0.250\n",
      "3    0   1   1  0.750\n",
      "4    1   0   0  0.250\n",
      "5    1   0   1  0.750\n",
      "6    1   1   0  0.125\n",
      "7    1   1   1  0.875, 'phi_X9'), (   X7  X10  prob\n",
      "0   0    0  0.50\n",
      "1   0    1  0.50\n",
      "2   1    0  0.25\n",
      "3   1    1  0.75, 'phi_X10'), (   X8  X9  X11   prob\n",
      "0   0   0    0  0.500\n",
      "1   0   0    1  0.500\n",
      "2   0   1    0  0.250\n",
      "3   0   1    1  0.750\n",
      "4   1   0    0  0.250\n",
      "5   1   0    1  0.750\n",
      "6   1   1    0  0.125\n",
      "7   1   1    1  0.875, 'phi_X11'), (   X7  X8  prob\n",
      "0   0   0   1.0\n",
      "1   0   1   1.0\n",
      "2   1   0   1.0\n",
      "3   1   1   1.0, 'tau_X1')]\n"
     ]
    }
   ],
   "source": [
    "# Example use of sum_product_eliminate_var()\n",
    "print(sum_product_eliminate_var(factor_list, 'X1', False))"
   ]
  },
  {
   "cell_type": "code",
   "execution_count": 13,
   "metadata": {},
   "outputs": [],
   "source": [
    "def sum_product_ve(factors: list, order: list):\n",
    "    \"\"\" \n",
    "    Run the sum_product_eliminate_var() function on all variables to be eliminated\n",
    "\n",
    "    Arguments:\n",
    "    factors (list): list of factors\n",
    "    order (list): list of variables in elimination order\n",
    "\n",
    "    Returns:\n",
    "    factors (list): list of remaining factors after eliminating all variables in the elimination order\n",
    "    \"\"\"\n",
    "\n",
    "    # For each variable in the elimination order\n",
    "    for var in order:\n",
    "        factors = sum_product_eliminate_var(factors, var)\n",
    "    return factors"
   ]
  },
  {
   "cell_type": "code",
   "execution_count": 14,
   "metadata": {},
   "outputs": [
    {
     "name": "stdout",
     "output_type": "stream",
     "text": [
      "[(   X11  X10      prob\n",
      "0    0    0  0.095215\n",
      "1    0    1  0.134399\n",
      "2    1    0  0.279785\n",
      "3    1    1  0.490601, 'tau_X9')]\n"
     ]
    }
   ],
   "source": [
    "# Example use of sum_product_ve()\n",
    "print(sum_product_ve(factor_list, variables_to_eliminate))"
   ]
  },
  {
   "cell_type": "code",
   "execution_count": 15,
   "metadata": {},
   "outputs": [],
   "source": [
    "def cond_prob_ve (factors: list, queries: list, evidence: list, order: list):\n",
    "    \"\"\" \n",
    "    Calculates the conditional probability of the query variables, given evidence. Corresponds to Algorithm 9.2 in PGM.\n",
    "\n",
    "    Arguments: \n",
    "    factors (list): list of factors\n",
    "    queries (list): list of variables (string) to be inferred\n",
    "    evidence (list): list of tuples containing the name and a value of a variable, e.g. ('X1',1) corresponding to X1=1.as_integer_ratio\n",
    "    order (list): list of variables in elimination order\n",
    "\n",
    "    Returns:\n",
    "    alpha (pd.DataFrame): CPD table containing the conditional distribution of the query variables given the evidence\n",
    "    phi (list of tuples): list containing tuples of factors and the name of the factor e.g. (pd.DataFrame, 'phi_Xi')\n",
    "    \"\"\"\n",
    "    order_ = order.copy() # Fix for wierd python handeling of list\n",
    "    factors_list = [i[0] for i in factors] # Factors\n",
    "    names_list = [i[1] for i in factors] # Names of factors\n",
    "\n",
    "    for i in range(0,len(factors_list)): # Loop through factors\n",
    "        for elm in evidence: # Loop through evidence\n",
    "            if elm[0] in factors_list[i].columns:\n",
    "                # Retrict factor to evidence == e, and replace in factor list\n",
    "                factors_list[i] = factors_list[i][factors_list[i][elm[0]]==elm[1]]\n",
    "    \n",
    "    # Remove elements we want to keep from elemination order\n",
    "    # for elm in evidence:\n",
    "    #     order_.remove(elm)\n",
    "    \n",
    "    concat_factor_list = list(zip(factors_list,names_list))\n",
    "    \n",
    "    phi = sum_product_ve(concat_factor_list, order_)\n",
    "\n",
    "    alpha = phi[0][0].groupby(queries, as_index = False)['prob'].sum()\n",
    "    alpha['prob'] = alpha['prob'] / alpha['prob'].sum() # Normalize the probability\n",
    "   \n",
    "    return alpha, phi"
   ]
  },
  {
   "cell_type": "markdown",
   "metadata": {},
   "source": [
    "Example use of cond_prob_ve()"
   ]
  },
  {
   "cell_type": "code",
   "execution_count": 16,
   "metadata": {},
   "outputs": [
    {
     "data": {
      "text/plain": [
       "(   X10  X11      prob\n",
       " 0    0    0  0.023144\n",
       " 1    0    1  0.173578\n",
       " 2    1    0  0.094503\n",
       " 3    1    1  0.708775,\n",
       " [(   X11  X10      prob\n",
       "   0    0    0  0.002254\n",
       "   1    0    1  0.009204\n",
       "   2    1    0  0.016905\n",
       "   3    1    1  0.069029,\n",
       "   'tau_X9')])"
      ]
     },
     "execution_count": 16,
     "metadata": {},
     "output_type": "execute_result"
    }
   ],
   "source": [
    "# evidence - observed values e for variables in E\n",
    "evidence = [('X1', 1), ('X2',1), ('X3',1),('X4',1),(\"X5\",1),('X6',1),('X7',1),('X8',1),('X9',1)] # Change the values to your preference.\n",
    "\n",
    "# If a variable is in query it cannot be in variables_to_eliminate\n",
    "# order - Elimination order (order)\n",
    "variables_to_eliminate = ['X1', 'X2', 'X3', 'X4', 'X5', 'X6', 'X7', 'X8', 'X9']\n",
    "\n",
    "# query_var - Set of query variables Y to be inferred\n",
    "query_var = ['X10', 'X11']\n",
    "\n",
    "cond_prob_ve(factor_list, query_var, evidence, variables_to_eliminate)"
   ]
  },
  {
   "cell_type": "markdown",
   "metadata": {},
   "source": [
    "# Apply sum-product"
   ]
  },
  {
   "cell_type": "markdown",
   "metadata": {},
   "source": [
    "The following code \"proofs\" that our algorithm works.\n",
    " - It do take a long time to run, but the we should be able to optimize if we don't run cond_prob_ve inside the for-loop in the function dataframe_inference\n",
    "\n",
    "Apply evidence to the inference algorithm:\n",
    " - Loop through each row in the dataframe and apply the columns to sum_product as evidence."
   ]
  },
  {
   "cell_type": "markdown",
   "metadata": {},
   "source": [
    "## Inference\n",
    "Test the inference algorithm using simulated data"
   ]
  },
  {
   "cell_type": "code",
   "execution_count": 17,
   "metadata": {},
   "outputs": [],
   "source": [
    "def convert_to_evidence_format(data : list, pick : list) -> list:\n",
    "    \"\"\" \n",
    "    This is a helper function to create a factor from a dataset. \n",
    "    Method: convert the data into the same format as the evidence list by looping through the data \n",
    "    and creating a list of tuples.\n",
    "\n",
    "    Arguments: \n",
    "    data (list): list of lists with data\n",
    "    pick (list): List of variables X1, ..., X9\n",
    "\n",
    "    Returns:\n",
    "    evidence (list): example: [(X1, 1), (X2, 0), (X3, 1), (X4, 0), (X5, 1), (X6, 0), (X7, 1), (X8, 0), (X9, 1)]\n",
    "    \"\"\"\n",
    "\n",
    "    evidence = []\n",
    "\n",
    "    # Loop through the data and create a list of tuples\n",
    "    for i in range(0, len(data)): # Loop through columns\n",
    "        lst = []\n",
    "        for j in range(0, len(data[i])): # Loop through rows\n",
    "            \n",
    "            # Append the tuple (X1, 1) or (X2, 0) etc.\n",
    "            lst = lst + [(pick[j], data[i][j])]\n",
    "        evidence = evidence + [lst]\n",
    "\n",
    "    return evidence\n",
    "\n",
    "# Given a dataframe convert into the same format as the evidence list\n",
    "# pick - List of variables X1, ..., X9\n",
    "def dataframe_to_evidence(df : pd.DataFrame, pick : list) -> list:\n",
    "    \"\"\" \n",
    "    Converts a dataframe into the same format as the evidence list by calling convert_to_evidence_format().\n",
    "\n",
    "    Arguments:\n",
    "    df (pandas.DataFrame): The dataframe to be converted\n",
    "    pick (list): List of variables X1, ..., X9\n",
    "\n",
    "    Returns:\n",
    "    evidence (list): [(X1, 1), (X2, 0), (X3, 1), (X4, 0), (X5, 1), (X6, 0), (X7, 1), (X8, 0), (X9, 1)]\n",
    "    \"\"\"\n",
    "    data = [] \n",
    "    \n",
    "    # Convert dataframe to list(col) of list(row)\n",
    "    for index, row in df.iterrows():\n",
    "        row_list = row.tolist()  \n",
    "        data.append(row_list)  \n",
    "\n",
    "    # Convert into the same format as the evidence list\n",
    "    evidence = convert_to_evidence_format(data, pick)\n",
    "    \n",
    "    return evidence"
   ]
  },
  {
   "cell_type": "code",
   "execution_count": 18,
   "metadata": {},
   "outputs": [],
   "source": [
    "def dataframe_inference(df : pd.DataFrame, evidence_list : list, query_var : list, order : list) -> list:\n",
    "    \"\"\" \n",
    "    First, convert the dataframe into the same format as the evidence list. \n",
    "    Then, calculate the conditional probability of the query variables given the evidence.\n",
    "\n",
    "\n",
    "    Arguments:\n",
    "    df (pandas.DataFrame): The dataframe containing all columns\n",
    "    evidence_list (list): List of variables X1, ..., X9 that is our evidence\n",
    "    query_var (list): List of variables we want to query\n",
    "    order (list): Elimination order from first to last\n",
    "    \n",
    "    Returns:\n",
    "\n",
    "    \"\"\"\n",
    "    evidence = dataframe_to_evidence(df, evidence_list)\n",
    "    lst_prob = []\n",
    "\n",
    "    # We concatenate the probabilities to the original dataset.\n",
    "    # Loop through evidence and calculate the probability of the query variable.\n",
    "    for elm in evidence:\n",
    "        # If there is multiple query variables we get a joint distribution,\n",
    "\n",
    "        prob_values = [] # List of probabilities for each query variable\n",
    "        for i in range(0, len(query_var)):\n",
    "            # Apply sum_product_ve\n",
    "            prob = cond_prob_ve(factor_list, query_var, elm, variables_to_eliminate)[0] \n",
    "\n",
    "            # Marginalize the probability, to get a probability for each query variable\n",
    "            prob_marginal = prob.groupby(query_var[i], as_index = False)['prob'].sum() \n",
    "\n",
    "            # Get the probability of the query variable\n",
    "            prob_value = prob_marginal[prob_marginal[query_var[i]]==1].iloc[0]['prob'] \n",
    "            prob_values = prob_values + [prob_value]\n",
    "\n",
    "        lst_prob = lst_prob + [prob_values]\n",
    "\n",
    "    # Convert list of probabilities to dataframe concatenated with the original dataset\n",
    "    query_var_prob_names = [x + '_prob' for x in query_var]\n",
    "    df_prob = pd.DataFrame(lst_prob, columns=query_var_prob_names)\n",
    "    df_prob = pd.concat([df, df_prob], axis=1)\n",
    "    \n",
    "    # Simulate the data based on the probability\n",
    "    for elm in query_var:\n",
    "        df_prob[elm] = np.random.binomial(1, df_prob[elm + '_prob'])\n",
    "\n",
    "    return df_prob\n"
   ]
  },
  {
   "cell_type": "markdown",
   "metadata": {},
   "source": [
    "### Load data - test with simulated data"
   ]
  },
  {
   "cell_type": "code",
   "execution_count": 19,
   "metadata": {},
   "outputs": [
    {
     "data": {
      "text/html": [
       "<div>\n",
       "<style scoped>\n",
       "    .dataframe tbody tr th:only-of-type {\n",
       "        vertical-align: middle;\n",
       "    }\n",
       "\n",
       "    .dataframe tbody tr th {\n",
       "        vertical-align: top;\n",
       "    }\n",
       "\n",
       "    .dataframe thead th {\n",
       "        text-align: right;\n",
       "    }\n",
       "</style>\n",
       "<table border=\"1\" class=\"dataframe\">\n",
       "  <thead>\n",
       "    <tr style=\"text-align: right;\">\n",
       "      <th></th>\n",
       "      <th>X1</th>\n",
       "      <th>X2</th>\n",
       "      <th>X3</th>\n",
       "      <th>X4</th>\n",
       "      <th>X5</th>\n",
       "      <th>X6</th>\n",
       "      <th>X7</th>\n",
       "      <th>X8</th>\n",
       "      <th>X9</th>\n",
       "    </tr>\n",
       "  </thead>\n",
       "  <tbody>\n",
       "    <tr>\n",
       "      <th>0</th>\n",
       "      <td>1</td>\n",
       "      <td>1</td>\n",
       "      <td>1</td>\n",
       "      <td>1</td>\n",
       "      <td>1</td>\n",
       "      <td>1</td>\n",
       "      <td>0</td>\n",
       "      <td>1</td>\n",
       "      <td>0</td>\n",
       "    </tr>\n",
       "    <tr>\n",
       "      <th>1</th>\n",
       "      <td>1</td>\n",
       "      <td>0</td>\n",
       "      <td>1</td>\n",
       "      <td>0</td>\n",
       "      <td>1</td>\n",
       "      <td>1</td>\n",
       "      <td>0</td>\n",
       "      <td>0</td>\n",
       "      <td>1</td>\n",
       "    </tr>\n",
       "    <tr>\n",
       "      <th>2</th>\n",
       "      <td>1</td>\n",
       "      <td>1</td>\n",
       "      <td>0</td>\n",
       "      <td>1</td>\n",
       "      <td>0</td>\n",
       "      <td>0</td>\n",
       "      <td>1</td>\n",
       "      <td>0</td>\n",
       "      <td>1</td>\n",
       "    </tr>\n",
       "    <tr>\n",
       "      <th>3</th>\n",
       "      <td>1</td>\n",
       "      <td>1</td>\n",
       "      <td>1</td>\n",
       "      <td>1</td>\n",
       "      <td>1</td>\n",
       "      <td>1</td>\n",
       "      <td>0</td>\n",
       "      <td>1</td>\n",
       "      <td>1</td>\n",
       "    </tr>\n",
       "    <tr>\n",
       "      <th>4</th>\n",
       "      <td>1</td>\n",
       "      <td>1</td>\n",
       "      <td>1</td>\n",
       "      <td>1</td>\n",
       "      <td>1</td>\n",
       "      <td>1</td>\n",
       "      <td>1</td>\n",
       "      <td>1</td>\n",
       "      <td>1</td>\n",
       "    </tr>\n",
       "  </tbody>\n",
       "</table>\n",
       "</div>"
      ],
      "text/plain": [
       "   X1  X2  X3  X4  X5  X6  X7  X8  X9\n",
       "0   1   1   1   1   1   1   0   1   0\n",
       "1   1   0   1   0   1   1   0   0   1\n",
       "2   1   1   0   1   0   0   1   0   1\n",
       "3   1   1   1   1   1   1   0   1   1\n",
       "4   1   1   1   1   1   1   1   1   1"
      ]
     },
     "execution_count": 19,
     "metadata": {},
     "output_type": "execute_result"
    }
   ],
   "source": [
    "# Load the 50,000 simulated dataset\n",
    "column_names = ['X1', 'X2', 'X3', 'X4', 'X5', 'X6', 'X7', 'X8', 'X9', 'remove1', 'remove2']\n",
    "pd_dataset = pd.read_csv(\"dataset/50K_forward_sim.csv\") \n",
    "pd_dataset = pd_dataset.rename(columns=dict(zip(pd_dataset.columns, column_names)))\n",
    "pd_dataset = pd_dataset.drop(columns=['remove1', 'remove2'], axis=0)\n",
    "\n",
    "pd_dataset.head()"
   ]
  },
  {
   "cell_type": "markdown",
   "metadata": {},
   "source": [
    "The code below will compute inference on the simulated data.\n",
    "\n",
    "Don't run this code, it will take a long time to run."
   ]
  },
  {
   "cell_type": "code",
   "execution_count": 20,
   "metadata": {},
   "outputs": [],
   "source": [
    "# We keep a copy of the original dataset\n",
    "K = ['X1', 'X2', 'X3', 'X4', 'X5', 'X6', 'X7', 'X8', 'X9', 'X10', 'X11']\n",
    "variables_to_eliminate = ['X1', 'X2', 'X3', 'X4', 'X5', 'X6', 'X7', 'X8', 'X9']\n",
    "query_var = ['X10', 'X11']\n",
    "\n",
    "# results are saved to csv \n",
    "#inference_data = dataframe_inference(pd_dataset, column_names, query_var, variables_to_eliminate)\n",
    "\n",
    "#inference_data.to_csv('dataset/50K_inference_sim.csv', index=False)"
   ]
  },
  {
   "cell_type": "markdown",
   "metadata": {},
   "source": [
    "### Plot results"
   ]
  },
  {
   "cell_type": "markdown",
   "metadata": {},
   "source": [
    "Seems like the algorith works, based of comparrison with the plot in part_1"
   ]
  },
  {
   "cell_type": "code",
   "execution_count": 22,
   "metadata": {},
   "outputs": [
    {
     "data": {
      "text/html": [
       "<div>\n",
       "<style scoped>\n",
       "    .dataframe tbody tr th:only-of-type {\n",
       "        vertical-align: middle;\n",
       "    }\n",
       "\n",
       "    .dataframe tbody tr th {\n",
       "        vertical-align: top;\n",
       "    }\n",
       "\n",
       "    .dataframe thead th {\n",
       "        text-align: right;\n",
       "    }\n",
       "</style>\n",
       "<table border=\"1\" class=\"dataframe\">\n",
       "  <thead>\n",
       "    <tr style=\"text-align: right;\">\n",
       "      <th></th>\n",
       "      <th>X1</th>\n",
       "      <th>X2</th>\n",
       "      <th>X3</th>\n",
       "      <th>X4</th>\n",
       "      <th>X5</th>\n",
       "      <th>X6</th>\n",
       "      <th>X7</th>\n",
       "      <th>X8</th>\n",
       "      <th>X9</th>\n",
       "      <th>X10</th>\n",
       "      <th>X11</th>\n",
       "    </tr>\n",
       "  </thead>\n",
       "  <tbody>\n",
       "    <tr>\n",
       "      <th>0</th>\n",
       "      <td>1</td>\n",
       "      <td>1</td>\n",
       "      <td>0</td>\n",
       "      <td>1</td>\n",
       "      <td>1</td>\n",
       "      <td>1</td>\n",
       "      <td>1</td>\n",
       "      <td>1</td>\n",
       "      <td>1</td>\n",
       "      <td>1</td>\n",
       "      <td>1</td>\n",
       "    </tr>\n",
       "    <tr>\n",
       "      <th>1</th>\n",
       "      <td>0</td>\n",
       "      <td>1</td>\n",
       "      <td>0</td>\n",
       "      <td>1</td>\n",
       "      <td>0</td>\n",
       "      <td>1</td>\n",
       "      <td>1</td>\n",
       "      <td>0</td>\n",
       "      <td>1</td>\n",
       "      <td>0</td>\n",
       "      <td>0</td>\n",
       "    </tr>\n",
       "    <tr>\n",
       "      <th>2</th>\n",
       "      <td>1</td>\n",
       "      <td>1</td>\n",
       "      <td>1</td>\n",
       "      <td>1</td>\n",
       "      <td>1</td>\n",
       "      <td>1</td>\n",
       "      <td>1</td>\n",
       "      <td>1</td>\n",
       "      <td>0</td>\n",
       "      <td>0</td>\n",
       "      <td>1</td>\n",
       "    </tr>\n",
       "    <tr>\n",
       "      <th>3</th>\n",
       "      <td>1</td>\n",
       "      <td>0</td>\n",
       "      <td>0</td>\n",
       "      <td>1</td>\n",
       "      <td>1</td>\n",
       "      <td>1</td>\n",
       "      <td>1</td>\n",
       "      <td>0</td>\n",
       "      <td>1</td>\n",
       "      <td>1</td>\n",
       "      <td>0</td>\n",
       "    </tr>\n",
       "    <tr>\n",
       "      <th>4</th>\n",
       "      <td>1</td>\n",
       "      <td>1</td>\n",
       "      <td>1</td>\n",
       "      <td>1</td>\n",
       "      <td>1</td>\n",
       "      <td>0</td>\n",
       "      <td>1</td>\n",
       "      <td>1</td>\n",
       "      <td>1</td>\n",
       "      <td>1</td>\n",
       "      <td>1</td>\n",
       "    </tr>\n",
       "  </tbody>\n",
       "</table>\n",
       "</div>"
      ],
      "text/plain": [
       "   X1  X2  X3  X4  X5  X6  X7  X8  X9  X10  X11\n",
       "0   1   1   0   1   1   1   1   1   1    1    1\n",
       "1   0   1   0   1   0   1   1   0   1    0    0\n",
       "2   1   1   1   1   1   1   1   1   0    0    1\n",
       "3   1   0   0   1   1   1   1   0   1    1    0\n",
       "4   1   1   1   1   1   0   1   1   1    1    1"
      ]
     },
     "execution_count": 22,
     "metadata": {},
     "output_type": "execute_result"
    }
   ],
   "source": [
    "pd_dataset = pd.read_csv(\"dataset/50K_inference_sim.csv\") \n",
    "\n",
    "#inference_date = inference_date.rename(columns=dict(zip(inference_date.columns, column_names)))\n",
    "#inference_date = inference_date.drop(columns=['X10_prob', 'X11_prob'], axis=0)\n",
    "pd_dataset.head()"
   ]
  },
  {
   "cell_type": "code",
   "execution_count": 23,
   "metadata": {},
   "outputs": [
    {
     "data": {
      "image/png": "[encoded data removed]",
      "text/plain": [
       "<Figure size 640x480 with 1 Axes>"
      ]
     },
     "metadata": {},
     "output_type": "display_data"
    }
   ],
   "source": [
    "fwd_sim_inf_percentages = pd_dataset.mean()  # mean() calculates the proportion of 1s, multiplying by 100 gives the percentage\n",
    "\n",
    "# Plotting\n",
    "fig, ax = plt.subplots()\n",
    "np.round(fwd_sim_inf_percentages,2).plot(kind='bar', ax=ax)\n",
    "ax.bar_label(ax.containers[0])\n",
    "ax.set_ylabel('Frequency of 1\\'s')\n",
    "ax.set_title('Frequency of 1\\'s in each column')\n",
    "ax.set_axisbelow(True)\n",
    "plt.xticks(rotation=45)  # Rotate labels to make them readable\n",
    "plt.grid(axis='y', linestyle='--', linewidth=0.7)  # Add gridlines for better readability\n",
    "plt.show()"
   ]
  },
  {
   "cell_type": "markdown",
   "metadata": {},
   "source": [
    "## Apply the inference algorithm on the original data"
   ]
  },
  {
   "cell_type": "code",
   "execution_count": 24,
   "metadata": {},
   "outputs": [],
   "source": [
    "# load orginal data \n",
    "# Initialize the dataset - original data\n",
    "column_names = ['X1', 'X2', 'X3', 'X4', 'X5', 'X6', 'X7', 'X8', 'X9', 'remove1', 'remove2']\n",
    "sachs_bin_dataset = pd.read_csv(\"dataset/sachs_bin.csv\") \n",
    "sachs_bin_dataset = sachs_bin_dataset.rename(columns=dict(zip(sachs_bin_dataset.columns, column_names)))\n",
    "#sachs_bin_dataset = sachs_bin_dataset.drop(columns=['remove1', 'remove2'], axis=0)\n"
   ]
  },
  {
   "cell_type": "markdown",
   "metadata": {},
   "source": [
    "### Applying inference algorithm to sachs_bin.csv data"
   ]
  },
  {
   "cell_type": "code",
   "execution_count": 25,
   "metadata": {},
   "outputs": [],
   "source": [
    "# remove '#' to run the inference algorithm on the real data\n",
    "#variables_to_eliminate = ['X1', 'X2', 'X3', 'X4', 'X5', 'X6', 'X7', 'X8', 'X9']\n",
    "#query_var = ['X10', 'X11']\n",
    "#sachs_bin_inferred = dataframe_inference(sachs_bin_dataset, column_names, query_var, variables_to_eliminate)\n",
    "#sachs_bin_inferred = sachs_bin_inferred.drop(columns=['X10_prob', 'X11_prob'], axis=0)\n",
    "#sachs_bin_inferred.to_csv('dataset/sachs_bin_inferred.csv', index=False)"
   ]
  },
  {
   "cell_type": "code",
   "execution_count": 26,
   "metadata": {},
   "outputs": [],
   "source": [
    "# importing saved data from inference algorithm\n",
    "sachs_bin_inferred = pd.read_csv('dataset/sachs_bin_inferred.csv')\n",
    "percentages_sachs = sachs_bin_inferred.mean()  # mean() calculates the proportion of 1s, multiplying by 100 gives the percentage"
   ]
  },
  {
   "cell_type": "code",
   "execution_count": 27,
   "metadata": {},
   "outputs": [],
   "source": [
    "fwd_sim_data = pd.read_csv('dataset/50K_forward_simulation.csv')"
   ]
  },
  {
   "cell_type": "markdown",
   "metadata": {},
   "source": [
    "### Plot all data together"
   ]
  },
  {
   "cell_type": "code",
   "execution_count": 28,
   "metadata": {},
   "outputs": [
    {
     "data": {
      "image/png": "[encoded data removed]",
      "text/plain": [
       "<Figure size 1500x800 with 1 Axes>"
      ]
     },
     "metadata": {},
     "output_type": "display_data"
    }
   ],
   "source": [
    "datasets = ['Fwd simulated', 'Inferred from fwd simulated', 'Inferred from observed data']\n",
    "categories = ['$X_1$, Akt' , '$X_2$, Erk' ,'$X_3$, JNK' , '$X_4$, Mek' , '$X_5$, p38' , '$X_6$, PIP2' , '$X_7$, PIP3' , '$X_8$, PKA' , '$X_9$, PKC' , '$X_{10}$, PLCg' , '$X_{11}$, Raf']\n",
    "\n",
    "# Define width of each bar\n",
    "bar_width = 0.25\n",
    "\n",
    "# Set positions for bars on X-axis\n",
    "r1 = np.arange(len(categories))\n",
    "r2 = [x + bar_width for x in r1]\n",
    "r3 = [x + bar_width for x in r2]\n",
    "\n",
    "fwd_sim = fwd_sim_data.mean()\n",
    "inf_fwd = fwd_sim_inf_percentages\n",
    "inf_sachs = percentages_sachs\n",
    "\n",
    "#ax = plt.subplots()\n",
    "fig1,ax = plt.subplots(figsize=(15, 8))\n",
    "\n",
    "ax.bar(r1,fwd_sim,color='darkorange',width=bar_width,label=datasets[0],edgecolor='black')\n",
    "ax.bar(r2,inf_fwd,color='yellowgreen',width=bar_width,label=datasets[1],edgecolor='black')\n",
    "ax.bar(r3,inf_sachs,color='lightseagreen',width=bar_width,label=datasets[2],edgecolor='black')\n",
    "\n",
    "plt.ylabel('Frequency',fontsize=15)\n",
    "plt.ylim(0,1)\n",
    "plt.xticks([r + bar_width for r in range(len(categories))], categories, rotation=45,fontsize=13)\n",
    "plt.title('Comparison of datasets',fontsize=18)\n",
    "ax.set_facecolor('floralwhite')\n",
    "ax.set_axisbelow(True)\n",
    "plt.grid(axis='y', linestyle='-', linewidth=0.7,color='lightgray')  # Add gridlines for better readability\n",
    "\n",
    "# Add legend\n",
    "plt.legend(loc='upper left',fontsize=13)\n",
    "\n",
    "plt.show()\n",
    "\n",
    "fig1.savefig('comparison_part_ii.png')"
   ]
  }
 ],
 "metadata": {
  "kernelspec": {
   "display_name": "base",
   "language": "python",
   "name": "python3"
  },
  "language_info": {
   "codemirror_mode": {
    "name": "ipython",
    "version": 3
   },
   "file_extension": ".py",
   "mimetype": "text/x-python",
   "name": "python",
   "nbconvert_exporter": "python",
   "pygments_lexer": "ipython3",
   "version": "3.10.9"
  }
 },
 "nbformat": 4,
 "nbformat_minor": 2
}
