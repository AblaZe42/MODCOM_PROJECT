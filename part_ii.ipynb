{
 "cells": [
  {
   "cell_type": "code",
   "execution_count": 1,
   "metadata": {},
   "outputs": [],
   "source": [
    "import pandas as pd \n",
    "import numpy as np\n",
    "\n",
    "#Matrix operations\n",
    "from itertools import product"
   ]
  },
  {
   "cell_type": "markdown",
   "metadata": {},
   "source": [
    "# Variable Elimination for the moralized graph\n",
    "\n",
    "Implement inference algorithms for computing the conditional distribution of $X_{10}$ and $X_{11}$ given the observed variables for any choice of parameters $\\psi^{(1)}, \\ldots, \\psi^{(11)}$."
   ]
  },
  {
   "cell_type": "markdown",
   "metadata": {},
   "source": [
    "### Synthetic data"
   ]
  },
  {
   "cell_type": "code",
   "execution_count": 2,
   "metadata": {},
   "outputs": [
    {
     "data": {
      "text/plain": [
       "array([ 6,  7, 10])"
      ]
     },
     "execution_count": 2,
     "metadata": {},
     "output_type": "execute_result"
    }
   ],
   "source": [
    "scope_mat = pd.read_csv('dataset/scope.csv')\n",
    "scope_mat\n",
    "\n",
    "def factor_scope(Xi):\n",
    "    # return the indexes with 1\n",
    "    idx = np.where(scope_mat[Xi]==1)\n",
    "    Xs = idx[0]+1\n",
    "    return Xs\n",
    "    \n",
    "factor_scope(\"X6\")"
   ]
  },
  {
   "cell_type": "code",
   "execution_count": 125,
   "metadata": {},
   "outputs": [],
   "source": [
    "alpha = 0.5\n",
    "nodes = [7, 8, 1, 10, 6, 9, 3, 5, 11, 4, 2]\n",
    "parents_top = [[], [], [7, 8], [7], [7,10], [10,6], [9,8], [9,8], [9,8], [11, 8, 9], [4, 8]]\n",
    "\n",
    "# Switch the from topological order to index order\n",
    "def node_to_index(nodes, parents):\n",
    "    reordered_parents = [-1] * (max(nodes) + 1)\n",
    "    for node, parent in zip(nodes, parents):\n",
    "        reordered_parents[node] = parent\n",
    "    return reordered_parents[1:max(nodes)+1]\n",
    "parents = node_to_index(nodes, parents_top)\n",
    "parents.insert(0, -1)\n",
    "\n",
    "def synthetic_cpd(alpha, parent):\n",
    "    # Create all possible combinations of parent values\n",
    "    df = pd.DataFrame(list(product([0, 1], repeat=len(parent))), columns=parent)\n",
    "    df['prob'] = 1 - alpha ** (1 + df.sum(axis=1)) # P(X=1|parents)\n",
    "    return df\n",
    "\n",
    "df_x7 = synthetic_cpd(alpha, parents[7])\n",
    "df_x8 = synthetic_cpd(alpha, parents[8])\n",
    "df_x1 = synthetic_cpd(alpha, parents[1])\n",
    "df_x10 = synthetic_cpd(alpha, parents[10])\n",
    "df_x6 = synthetic_cpd(alpha, parents[6])\n",
    "df_x9 = synthetic_cpd(alpha, parents[9])\n",
    "df_x3 = synthetic_cpd(alpha, parents[3])\n",
    "df_x5 = synthetic_cpd(alpha, parents[5])\n",
    "df_x11 = synthetic_cpd(alpha, parents[11])\n",
    "df_x4 = synthetic_cpd(alpha, parents[4])\n",
    "df_x2 = synthetic_cpd(alpha, parents[2])\n",
    "\n",
    "factor_list_top = [df_x7, df_x8, df_x1, df_x10, df_x6, df_x9, df_x3, df_x5, df_x11, df_x4, df_x2]\n",
    "factor_list = node_to_index(nodes, factor_list_top)"
   ]
  },
  {
   "cell_type": "markdown",
   "metadata": {},
   "source": [
    "# Sum product"
   ]
  },
  {
   "cell_type": "code",
   "execution_count": 126,
   "metadata": {},
   "outputs": [
    {
     "data": {
      "text/html": [
       "<div>\n",
       "<style scoped>\n",
       "    .dataframe tbody tr th:only-of-type {\n",
       "        vertical-align: middle;\n",
       "    }\n",
       "\n",
       "    .dataframe tbody tr th {\n",
       "        vertical-align: top;\n",
       "    }\n",
       "\n",
       "    .dataframe thead th {\n",
       "        text-align: right;\n",
       "    }\n",
       "</style>\n",
       "<table border=\"1\" class=\"dataframe\">\n",
       "  <thead>\n",
       "    <tr style=\"text-align: right;\">\n",
       "      <th></th>\n",
       "      <th>7</th>\n",
       "      <th>10</th>\n",
       "      <th>6</th>\n",
       "      <th>prob</th>\n",
       "    </tr>\n",
       "  </thead>\n",
       "  <tbody>\n",
       "    <tr>\n",
       "      <th>0</th>\n",
       "      <td>0</td>\n",
       "      <td>0</td>\n",
       "      <td>0</td>\n",
       "      <td>0.250000</td>\n",
       "    </tr>\n",
       "    <tr>\n",
       "      <th>1</th>\n",
       "      <td>0</td>\n",
       "      <td>0</td>\n",
       "      <td>1</td>\n",
       "      <td>0.375000</td>\n",
       "    </tr>\n",
       "    <tr>\n",
       "      <th>2</th>\n",
       "      <td>1</td>\n",
       "      <td>0</td>\n",
       "      <td>0</td>\n",
       "      <td>0.375000</td>\n",
       "    </tr>\n",
       "    <tr>\n",
       "      <th>3</th>\n",
       "      <td>1</td>\n",
       "      <td>0</td>\n",
       "      <td>1</td>\n",
       "      <td>0.562500</td>\n",
       "    </tr>\n",
       "    <tr>\n",
       "      <th>4</th>\n",
       "      <td>0</td>\n",
       "      <td>1</td>\n",
       "      <td>0</td>\n",
       "      <td>0.562500</td>\n",
       "    </tr>\n",
       "    <tr>\n",
       "      <th>5</th>\n",
       "      <td>0</td>\n",
       "      <td>1</td>\n",
       "      <td>1</td>\n",
       "      <td>0.656250</td>\n",
       "    </tr>\n",
       "    <tr>\n",
       "      <th>6</th>\n",
       "      <td>1</td>\n",
       "      <td>1</td>\n",
       "      <td>0</td>\n",
       "      <td>0.656250</td>\n",
       "    </tr>\n",
       "    <tr>\n",
       "      <th>7</th>\n",
       "      <td>1</td>\n",
       "      <td>1</td>\n",
       "      <td>1</td>\n",
       "      <td>0.765625</td>\n",
       "    </tr>\n",
       "  </tbody>\n",
       "</table>\n",
       "</div>"
      ],
      "text/plain": [
       "   7  10  6      prob\n",
       "0  0   0  0  0.250000\n",
       "1  0   0  1  0.375000\n",
       "2  1   0  0  0.375000\n",
       "3  1   0  1  0.562500\n",
       "4  0   1  0  0.562500\n",
       "5  0   1  1  0.656250\n",
       "6  1   1  0  0.656250\n",
       "7  1   1  1  0.765625"
      ]
     },
     "execution_count": 126,
     "metadata": {},
     "output_type": "execute_result"
    }
   ],
   "source": [
    "def factor_product(factor_1, factor_2):\n",
    "    nodes_to_join = factor_1.columns.intersection(factor_2.columns)\n",
    "    nodes_to_join = nodes_to_join.drop(\"prob\")\n",
    "    nodes = list(nodes_to_join)\n",
    "\n",
    "    new_factor = factor_1.merge(factor_2, how='inner', on=nodes)\n",
    "    new_factor[\"prob\"] = new_factor[\"prob_x\"]*new_factor[\"prob_y\"]\n",
    "    new_factor = new_factor.drop(columns=[\"prob_x\",\"prob_y\"])\n",
    "    return new_factor\n",
    "\n",
    "factor_product(factor_list_top[4], factor_list_top[5])"
   ]
  },
  {
   "cell_type": "markdown",
   "metadata": {},
   "source": []
  },
  {
   "cell_type": "code",
   "execution_count": 128,
   "metadata": {},
   "outputs": [
    {
     "ename": "IndexError",
     "evalue": "list index out of range",
     "output_type": "error",
     "traceback": [
      "\u001b[1;31m---------------------------------------------------------------------------\u001b[0m",
      "\u001b[1;31mIndexError\u001b[0m                                Traceback (most recent call last)",
      "\u001b[1;32m~\\AppData\\Local\\Temp\\ipykernel_23428\\3474944801.py\u001b[0m in \u001b[0;36m<module>\u001b[1;34m\u001b[0m\n\u001b[0;32m     32\u001b[0m     \u001b[1;32mreturn\u001b[0m \u001b[0mlst_not_scope\u001b[0m \u001b[1;33m+\u001b[0m \u001b[1;33m[\u001b[0m\u001b[0mtau\u001b[0m\u001b[1;33m]\u001b[0m\u001b[1;33m\u001b[0m\u001b[1;33m\u001b[0m\u001b[0m\n\u001b[0;32m     33\u001b[0m \u001b[1;33m\u001b[0m\u001b[0m\n\u001b[1;32m---> 34\u001b[1;33m \u001b[0mprint\u001b[0m\u001b[1;33m(\u001b[0m\u001b[0msum_product_eliminate_var\u001b[0m\u001b[1;33m(\u001b[0m\u001b[0mfactor_list\u001b[0m\u001b[1;33m,\u001b[0m \u001b[1;36m1\u001b[0m\u001b[1;33m,\u001b[0m \u001b[1;32mTrue\u001b[0m\u001b[1;33m)\u001b[0m\u001b[1;33m)\u001b[0m\u001b[1;33m\u001b[0m\u001b[1;33m\u001b[0m\u001b[0m\n\u001b[0m",
      "\u001b[1;32m~\\AppData\\Local\\Temp\\ipykernel_23428\\3474944801.py\u001b[0m in \u001b[0;36msum_product_eliminate_var\u001b[1;34m(factors, var, print_info)\u001b[0m\n\u001b[0;32m     15\u001b[0m \u001b[1;33m\u001b[0m\u001b[0m\n\u001b[0;32m     16\u001b[0m     \u001b[1;31m# Multiply all factors in scope\u001b[0m\u001b[1;33m\u001b[0m\u001b[1;33m\u001b[0m\u001b[0m\n\u001b[1;32m---> 17\u001b[1;33m     \u001b[0mfactor_\u001b[0m \u001b[1;33m=\u001b[0m \u001b[0mlst_scope\u001b[0m\u001b[1;33m[\u001b[0m\u001b[1;36m0\u001b[0m\u001b[1;33m]\u001b[0m\u001b[1;33m\u001b[0m\u001b[1;33m\u001b[0m\u001b[0m\n\u001b[0m\u001b[0;32m     18\u001b[0m     \u001b[1;31m# print(factor_)\u001b[0m\u001b[1;33m\u001b[0m\u001b[1;33m\u001b[0m\u001b[0m\n\u001b[0;32m     19\u001b[0m     \u001b[1;32mfor\u001b[0m \u001b[0mi\u001b[0m \u001b[1;32min\u001b[0m \u001b[0mrange\u001b[0m\u001b[1;33m(\u001b[0m\u001b[1;36m1\u001b[0m\u001b[1;33m,\u001b[0m \u001b[0mlen\u001b[0m\u001b[1;33m(\u001b[0m\u001b[0mlst_scope\u001b[0m\u001b[1;33m)\u001b[0m\u001b[1;33m)\u001b[0m\u001b[1;33m:\u001b[0m\u001b[1;33m\u001b[0m\u001b[1;33m\u001b[0m\u001b[0m\n",
      "\u001b[1;31mIndexError\u001b[0m: list index out of range"
     ]
    }
   ],
   "source": [
    "def sum_product_eliminate_var(factors : list, var : int, print_info = False):\n",
    "    lst_scope = []   # Factors in scope\n",
    "    lst_scope_i = [] # Names of factors in scope   \n",
    "    lst_not_scope = [] # Factors not in scope\n",
    "    lst_not_scope_i = [] # Names of factors not in scope\n",
    "\n",
    "    for i in range(1, len(factors)+1):\n",
    "        if var in factors[i-1].columns:\n",
    "            lst_scope.append(factors[i-1])\n",
    "            lst_scope_i.append(i)\n",
    "        else:\n",
    "            lst_not_scope.append(factors[i-1])\n",
    "            lst_not_scope_i.append(i)\n",
    "\n",
    "\n",
    "    # Multiply all factors in scope\n",
    "    factor_ = lst_scope[0]\n",
    "    # print(factor_)\n",
    "    for i in range(1, len(lst_scope)):\n",
    "        factor_ = factor_product(factor_, lst_scope[i])\n",
    "\n",
    "    if print_info:\n",
    "        for elm in lst_scope:\n",
    "            print(elm.columns)\n",
    "        print(lst_scope_i)\n",
    "\n",
    "    # print('factor_', factor_, '\\n\\n')\n",
    "    col = list(factor_.columns[factor_.columns != var].drop(\"prob\")) \n",
    "    print('col', col)\n",
    "    tau = factor_.groupby(col, as_index = False)['prob'].sum()\n",
    "\n",
    "    return lst_not_scope + [tau]\n",
    "\n",
    "print(sum_product_eliminate_var(factor_list, 1, True))"
   ]
  }
 ],
 "metadata": {
  "kernelspec": {
   "display_name": "base",
   "language": "python",
   "name": "python3"
  },
  "language_info": {
   "codemirror_mode": {
    "name": "ipython",
    "version": 3
   },
   "file_extension": ".py",
   "mimetype": "text/x-python",
   "name": "python",
   "nbconvert_exporter": "python",
   "pygments_lexer": "ipython3",
   "version": "3.10.9"
  }
 },
 "nbformat": 4,
 "nbformat_minor": 2
}
