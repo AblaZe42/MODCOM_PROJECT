{
 "cells": [
  {
   "cell_type": "code",
   "execution_count": 6,
   "metadata": {},
   "outputs": [],
   "source": [
    "import pandas as pd \n",
    "import numpy as np\n",
    "\n",
    "#Matrix operations\n",
    "from itertools import product"
   ]
  },
  {
   "cell_type": "markdown",
   "metadata": {},
   "source": [
    "# Factors / CPD's"
   ]
  },
  {
   "cell_type": "markdown",
   "metadata": {},
   "source": [
    "### Synthetic data"
   ]
  },
  {
   "cell_type": "code",
   "execution_count": 7,
   "metadata": {},
   "outputs": [],
   "source": [
    "alpha = 0.5\n",
    "nodes = [7, 8, 1, 10, 6, 9, 3, 5, 11, 4, 2]\n",
    "parents_top = [[], [], [7, 8], [7], [7,10], [10,6], [9,8], [9,8], [9,8], [11, 8, 9], [4, 8]]\n",
    "\n",
    "# Switch the from topological order to index order\n",
    "def node_to_index(nodes, parents):\n",
    "    reordered_parents = [-1] * (max(nodes) + 1)\n",
    "    for node, parent in zip(nodes, parents):\n",
    "        reordered_parents[node] = parent\n",
    "    return reordered_parents[1:max(nodes)+1]\n",
    "parents = node_to_index(nodes, parents_top)\n",
    "parents.insert(0, -1)\n",
    "\n",
    "def synthetic_cpd(alpha, parent):\n",
    "    # Create all possible combinations of parent values\n",
    "    df = pd.DataFrame(list(product([0, 1], repeat=len(parent))), columns=parent)\n",
    "    df['prob'] = 1 - alpha ** (1 + df.sum(axis=1)) # P(X=1|parents)\n",
    "    return df\n",
    "\n",
    "df_x7 = synthetic_cpd(alpha, parents[7])\n",
    "df_x8 = synthetic_cpd(alpha, parents[8])\n",
    "df_x1 = synthetic_cpd(alpha, parents[1])\n",
    "df_x10 = synthetic_cpd(alpha, parents[10])\n",
    "df_x6 = synthetic_cpd(alpha, parents[6])\n",
    "df_x9 = synthetic_cpd(alpha, parents[9])\n",
    "df_x3 = synthetic_cpd(alpha, parents[3])\n",
    "df_x5 = synthetic_cpd(alpha, parents[5])\n",
    "df_x11 = synthetic_cpd(alpha, parents[11])\n",
    "df_x4 = synthetic_cpd(alpha, parents[4])\n",
    "df_x2 = synthetic_cpd(alpha, parents[2])"
   ]
  }
 ],
 "metadata": {
  "kernelspec": {
   "display_name": "base",
   "language": "python",
   "name": "python3"
  },
  "language_info": {
   "codemirror_mode": {
    "name": "ipython",
    "version": 3
   },
   "file_extension": ".py",
   "mimetype": "text/x-python",
   "name": "python",
   "nbconvert_exporter": "python",
   "pygments_lexer": "ipython3",
   "version": "3.9.13"
  }
 },
 "nbformat": 4,
 "nbformat_minor": 2
}
