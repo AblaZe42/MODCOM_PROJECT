{
 "cells": [
  {
   "cell_type": "code",
   "execution_count": 34,
   "metadata": {},
   "outputs": [],
   "source": [
    "from functools import lru_cache\n",
    "import numpy as np\n",
    "from timeit import default_timer as timer\n",
    "import matplotlib.pyplot as plt"
   ]
  },
  {
   "cell_type": "markdown",
   "metadata": {},
   "source": [
    "## XEx 14"
   ]
  },
  {
   "cell_type": "markdown",
   "metadata": {},
   "source": [
    "### a) \n",
    "\n",
    "We write a function that computes $\\tau_0(x, z)$"
   ]
  },
  {
   "cell_type": "code",
   "execution_count": 35,
   "metadata": {},
   "outputs": [],
   "source": [
    "def tau0(x, z):\n",
    "    # raise (NotImplementedError(\"Task: Complete the line below using each of x, y, z only exactly once in the expression.\"))\n",
    "    return sum(np.exp(x*y)*np.exp(z*y) for y in [-1, 1])"
   ]
  },
  {
   "cell_type": "code",
   "execution_count": 36,
   "metadata": {},
   "outputs": [
    {
     "name": "stdout",
     "output_type": "stream",
     "text": [
      "2.0\n",
      "7.524391382167262\n"
     ]
    }
   ],
   "source": [
    "# Testing tau0\n",
    "print(tau0(1, -1))\n",
    "print(tau0(-1, -1))"
   ]
  },
  {
   "cell_type": "markdown",
   "metadata": {},
   "source": [
    "### b)\n",
    "\n",
    "Now we create a new function takes as input two functions (each of two variables) and does the same computation as above, i.e., sums out the y-values"
   ]
  },
  {
   "cell_type": "code",
   "execution_count": 37,
   "metadata": {},
   "outputs": [],
   "source": [
    "def tau_factory(phi1, phi2, yy=[-1, 1]):\n",
    "    \"\"\"Eliminates last variable(s) of phi1 and first variable(s) of phi2\"\"\"\n",
    "    # raise (NotImplementedError(\"Task: Complete the line below.\"))\n",
    "    return lambda x, z: sum(phi1(x,y)*phi2(y,z) for y in yy)"
   ]
  },
  {
   "cell_type": "code",
   "execution_count": 38,
   "metadata": {},
   "outputs": [
    {
     "name": "stdout",
     "output_type": "stream",
     "text": [
      "2.0\n",
      "7.524391382167262\n"
     ]
    }
   ],
   "source": [
    "# Testing tau_factory\n",
    "tau1 = tau_factory(lambda x,y: np.exp(x * y), lambda y,z: np.exp(y * z))\n",
    "print(tau1(1, -1))\n",
    "print(tau1(-1, -1))"
   ]
  },
  {
   "cell_type": "markdown",
   "metadata": {},
   "source": [
    "### c)\n",
    "\n",
    "We can use our `tau_factory` to compute the intermediate factors for the Sum-Product VE algorithm. We have already computed `tau1`. Below we compute `tau2` and `tau3`."
   ]
  },
  {
   "cell_type": "code",
   "execution_count": 39,
   "metadata": {},
   "outputs": [],
   "source": [
    "tau2 = tau_factory(tau1, lambda z,w: np.exp(2 * z * w))\n",
    "tau3 = tau_factory(tau2, lambda w,u: np.exp(- w * u))"
   ]
  },
  {
   "cell_type": "markdown",
   "metadata": {},
   "source": [
    "To test that `tau3` actually computes $\\tau_3$ we assume that all the variables are binary taking values in $\\{-1, 1\\}$."
   ]
  },
  {
   "cell_type": "code",
   "execution_count": 40,
   "metadata": {},
   "outputs": [],
   "source": [
    "# This is a very naive way to compute tau3\n",
    "def tau3_bench(x, u):\n",
    "    tmp = 0\n",
    "    for y in [-1, 1]:\n",
    "        for z in [-1, 1]:\n",
    "            for w in [-1, 1]:\n",
    "                # raise (NotImplementedError(\"Task: Complete the line below (product of 4 factors).\"))\n",
    "                tmp += np.exp(x*y)*np.exp(y*z)*np.exp(2*z*w)*np.exp(-w*u) \n",
    "    return tmp"
   ]
  },
  {
   "cell_type": "code",
   "execution_count": 41,
   "metadata": {},
   "outputs": [
    {
     "name": "stdout",
     "output_type": "stream",
     "text": [
      "0.0\n",
      "7.105427357601002e-15\n"
     ]
    }
   ],
   "source": [
    "print(np.abs(tau3_bench(1, -1) - tau3(1, -1)))\n",
    "print(np.abs(tau3_bench(-1, -1) - tau3(-1, -1)))"
   ]
  },
  {
   "cell_type": "markdown",
   "metadata": {},
   "source": [
    "### d)\n",
    "\n",
    "We now explore the run time of our algorithm. If we suppose that all variables can take $n$ distinct values, then the runtime of `tau3` is $O(n\\cdot \\text{cost}(\\tau_2))$. Similarly, the runtime of `tau2` is given by $O(n\\cdot \\text{cost}(\\tau_1))$ with $\\text{cost}(\\tau_1) = O(n)$. Thus, the runtime of computing `tau3(-1, 1)` is $O(n^3)$."
   ]
  },
  {
   "cell_type": "code",
   "execution_count": 42,
   "metadata": {},
   "outputs": [
    {
     "name": "stdout",
     "output_type": "stream",
     "text": [
      "2: 0.0 s\n",
      "6: 0.0 s\n",
      "10: 0.0 s\n",
      "14: 0.02 s\n",
      "18: 0.02 s\n",
      "22: 0.03 s\n",
      "26: 0.06 s\n",
      "30: 0.1 s"
     ]
    },
    {
     "name": "stdout",
     "output_type": "stream",
     "text": [
      "\n",
      "34: 0.12 s\n",
      "38: 0.2 s\n",
      "42: 0.16 s\n",
      "46: 0.21 s\n",
      "51: 0.3 s\n",
      "55: 0.41 s\n",
      "59: 0.45 s\n",
      "63: 0.52 s\n",
      "67: 0.89 s\n",
      "71: 1.32 s\n",
      "75: 1.4 s\n",
      "79: 1.67 s\n",
      "83: 1.58 s\n",
      "87: 1.83 s\n",
      "91: 2.01 s\n",
      "95: 3.9 s\n",
      "100: 4.7 s\n"
     ]
    }
   ],
   "source": [
    "out = []\n",
    "n_seq = np.linspace(2, 100, num=25, dtype=int)\n",
    "for n in n_seq:\n",
    "    vals = np.linspace(-1, 1, n)\n",
    "\n",
    "    tau1 = tau_factory(lambda x,y: np.exp(x * y), lambda y,z: np.exp(y * z), vals)\n",
    "    tau2 = tau_factory(tau1, lambda z,w: np.exp(2 * z * w), vals)\n",
    "    tau3 = tau_factory(tau2, lambda w,u: np.exp(- w * u), vals)\n",
    "\n",
    "    start = timer();\n",
    "    result = tau3(-1, 1)\n",
    "    time = timer() - start\n",
    "    out += [time]\n",
    "    print(f\"{n}: {np.round(time, 2)} s\")"
   ]
  },
  {
   "cell_type": "code",
   "execution_count": 43,
   "metadata": {},
   "outputs": [
    {
     "data": {
      "text/plain": [
       "Text(1, -3, 'Slope: 2.69')"
      ]
     },
     "execution_count": 43,
     "metadata": {},
     "output_type": "execute_result"
    },
    {
     "data": {
      "image/png": "[encoded data removed]",
      "text/plain": [
       "<Figure size 640x480 with 1 Axes>"
      ]
     },
     "metadata": {},
     "output_type": "display_data"
    }
   ],
   "source": [
    "# Since we expect the relation to be cubic, we plot log-time against log n\n",
    "plt.scatter(np.log(n_seq), np.log(out), c=\"orange\")\n",
    "\n",
    "# We fit a regression line.\n",
    "m, b = np.polyfit(np.log(n_seq), np.log(out), 1)\n",
    "plt.plot(np.log(n_seq), m*np.log(n_seq) + b)\n",
    "plt.annotate(f\"Slope: {m.round(2)}\", (1,-3))"
   ]
  },
  {
   "cell_type": "markdown",
   "metadata": {},
   "source": [
    "Now let's do the same thing for an algorithm that computes and stores $\\tau_1(-1, z)$ as an array instead."
   ]
  },
  {
   "cell_type": "code",
   "execution_count": 44,
   "metadata": {},
   "outputs": [
    {
     "name": "stdout",
     "output_type": "stream",
     "text": [
      "2: 0.0 s\n",
      "6: 0.0 s\n",
      "10: 0.0 s\n",
      "14: 0.0 s\n",
      "18: 0.0 s\n",
      "22: 0.0 s\n",
      "26: 0.0 s\n",
      "30: 0.0 s\n",
      "34: 0.0 s\n",
      "38: 0.0 s\n",
      "42: 0.0 s\n",
      "46: 0.01 s\n",
      "51: 0.01 s\n",
      "55: 0.01 s\n",
      "59: 0.01 s\n",
      "63: 0.01 s\n",
      "67: 0.01 s\n",
      "71: 0.01 s\n",
      "75: 0.01 s\n",
      "79: 0.02 s\n",
      "83: 0.02 s\n",
      "87: 0.02 s\n",
      "91: 0.02 s\n",
      "95: 0.02 s\n",
      "100: 0.03 s\n"
     ]
    }
   ],
   "source": [
    "out = []\n",
    "n_seq = np.linspace(2, 100, num=25, dtype=int)\n",
    "for n in n_seq:\n",
    "    vals = np.linspace(-1, 1, n)\n",
    "    # raise (NotImplementedError(\"Task: Complete the line below to precompute (to avoid calling tau1 repeatedly).\"))\n",
    "    tau1_z = np.array([tau1(-1, z) for z in vals]) \n",
    "    tau2 = lambda w: sum(tau1_z[idx] * np.exp(2 * z * w) for idx,z in enumerate(vals))\n",
    "    tau3 = lambda u: sum(tau2(w) * np.exp(- w * u) for w in vals)\n",
    "\n",
    "\n",
    "    start = timer();\n",
    "    result = tau3(1)\n",
    "    time = timer() - start\n",
    "    out += [time]\n",
    "    print(f\"{n}: {np.round(time, 2)} s\")"
   ]
  },
  {
   "cell_type": "code",
   "execution_count": 45,
   "metadata": {},
   "outputs": [
    {
     "data": {
      "text/plain": [
       "Text(1, -3, 'Slope: 1.55')"
      ]
     },
     "execution_count": 45,
     "metadata": {},
     "output_type": "execute_result"
    },
    {
     "data": {
      "image/png": "[encoded data removed]",
      "text/plain": [
       "<Figure size 640x480 with 1 Axes>"
      ]
     },
     "metadata": {},
     "output_type": "display_data"
    }
   ],
   "source": [
    "# Since we expect the relation to be quadratic, we plot log-time against log n\n",
    "plt.scatter(np.log(n_seq), np.log(out), c=\"orange\")\n",
    "\n",
    "# We fit a regression line.\n",
    "m, b = np.polyfit(np.log(n_seq), np.log(out), 1)\n",
    "plt.plot(np.log(n_seq), m*np.log(n_seq) + b)\n",
    "plt.annotate(f\"Slope: {m.round(2)}\", (1,-3))"
   ]
  },
  {
   "cell_type": "markdown",
   "metadata": {},
   "source": [
    "---\n",
    "\n",
    "### LRU cache (least recently used cache)\n",
    "\n",
    "We define an alternative `tau_factory` function that we will use only for `tau1` to inspect the number of calls = multiplications."
   ]
  },
  {
   "cell_type": "code",
   "execution_count": 46,
   "metadata": {},
   "outputs": [],
   "source": [
    "def tau_factory_logging(phi1, phi2, yy=[-1, 1], lru_maxsize=0):\n",
    "    \"\"\"Eliminates last variable(s) of phi1 and first variable(s) of phi2,\n",
    "    lru caches the last lru_maxsize calls to the returned factor function\"\"\"\n",
    "    @lru_cache(maxsize=int(lru_maxsize))\n",
    "    def function(x, z):\n",
    "        global COUNTER\n",
    "        COUNTER += 1\n",
    "        return sum(phi1(x,y)*phi2(y,z) for y in yy)\n",
    "    return function"
   ]
  },
  {
   "cell_type": "code",
   "execution_count": 47,
   "metadata": {},
   "outputs": [
    {
     "name": "stdout",
     "output_type": "stream",
     "text": [
      "Without caching / storing tau1(-1, z)\n",
      "Number of multiplications for evaluating tau1: 1600\n",
      "Runtime: 0.37 s \n",
      "\n",
      "With caching / storing tau1(-1, z)\n",
      "Number of multiplications for evaluating tau1: 40\n",
      "Runtime: 0.01 s\n"
     ]
    }
   ],
   "source": [
    "n = 40\n",
    "\n",
    "COUNTER = 0\n",
    "# ---\n",
    "vals = np.linspace(-1, 1, n)\n",
    "\n",
    "tau1 = tau_factory_logging(lambda x,y: np.exp(x * y), lambda y,z: np.exp(y * z), vals, lru_maxsize=0)\n",
    "tau2 = tau_factory(tau1, lambda z,w: np.exp(2 * z * w), vals)\n",
    "tau3 = tau_factory(tau2, lambda w,u: np.exp(- w * u), vals)\n",
    "\n",
    "start = timer();\n",
    "result = tau3(-1, 1)\n",
    "time = timer() - start\n",
    "out += [time]\n",
    "# ---\n",
    "print('Without caching / storing tau1(-1, z)')\n",
    "print(f'Number of multiplications for evaluating tau1: {COUNTER}')\n",
    "print(f\"Runtime: {np.round(time, 2)} s \\n\")\n",
    "\n",
    "COUNTER = 0\n",
    "# ---\n",
    "vals = np.linspace(-1, 1, n)\n",
    "\n",
    "tau1 = tau_factory_logging(lambda x,y: np.exp(x * y), lambda y,z: np.exp(y * z), vals, lru_maxsize=n)\n",
    "tau2 = tau_factory(tau1, lambda z,w: np.exp(2 * z * w), vals)\n",
    "tau3 = tau_factory(tau2, lambda w,u: np.exp(- w * u), vals)\n",
    "\n",
    "start = timer();\n",
    "result = tau3(-1, 1)\n",
    "time = timer() - start\n",
    "out += [time]\n",
    "# ---\n",
    "print('With caching / storing tau1(-1, z)')\n",
    "print(f'Number of multiplications for evaluating tau1: {COUNTER}')\n",
    "print(f\"Runtime: {np.round(time, 2)} s\")"
   ]
  },
  {
   "cell_type": "code",
   "execution_count": 48,
   "metadata": {},
   "outputs": [
    {
     "name": "stdout",
     "output_type": "stream",
     "text": [
      "2: 0.0 s\n",
      "6: 0.0 s\n",
      "10: 0.0 s\n",
      "14: 0.0 s\n",
      "18: 0.0 s\n",
      "22: 0.01 s\n",
      "26: 0.01 s\n",
      "30: 0.01 s\n",
      "34: 0.02 s\n",
      "38: 0.02 s\n",
      "42: 0.02 s\n",
      "46: 0.02 s\n",
      "51: 0.02 s\n",
      "55: 0.03 s\n",
      "59: 0.04 s\n",
      "63: 0.04 s\n",
      "67: 0.05 s\n",
      "71: 0.06 s\n",
      "75: 0.06 s\n",
      "79: 0.06 s\n",
      "83: 0.08 s\n",
      "87: 0.06 s\n",
      "91: 0.07 s\n",
      "95: 0.08 s\n",
      "100: 0.1 s\n"
     ]
    }
   ],
   "source": [
    "# now let's redo the above experiment with storing tau1(-1, z)\n",
    "\n",
    "out = []\n",
    "n_seq = np.linspace(2, 100, num=25, dtype=int)\n",
    "for n in n_seq:\n",
    "    vals = np.linspace(-1, 1, n)\n",
    "\n",
    "    tau1 = tau_factory_logging(lambda x,y: np.exp(x * y), lambda y,z: np.exp(y * z), vals, lru_maxsize=n)\n",
    "    tau2 = tau_factory(tau1, lambda z,w: np.exp(2 * z * w), vals)\n",
    "    tau3 = tau_factory(tau2, lambda w,u: np.exp(- w * u), vals)\n",
    "\n",
    "    start = timer();\n",
    "    result = tau3(-1, 1)\n",
    "    time = timer() - start\n",
    "    out += [time]\n",
    "    print(f\"{n}: {np.round(time, 2)} s\")"
   ]
  },
  {
   "cell_type": "code",
   "execution_count": 49,
   "metadata": {},
   "outputs": [
    {
     "data": {
      "text/plain": [
       "Text(1, -3, 'Slope: 1.66')"
      ]
     },
     "execution_count": 49,
     "metadata": {},
     "output_type": "execute_result"
    },
    {
     "data": {
      "image/png": "[encoded data removed]",
      "text/plain": [
       "<Figure size 640x480 with 1 Axes>"
      ]
     },
     "metadata": {},
     "output_type": "display_data"
    }
   ],
   "source": [
    "# Since we expect the relation to be quadratic, we plot log-time against log n\n",
    "plt.scatter(np.log(n_seq), np.log(out), c=\"orange\")\n",
    "\n",
    "# We fit a regression line.\n",
    "m, b = np.polyfit(np.log(n_seq), np.log(out), 1)\n",
    "plt.plot(np.log(n_seq), m*np.log(n_seq) + b)\n",
    "plt.annotate(f\"Slope: {m.round(2)}\", (1,-3))"
   ]
  }
 ],
 "metadata": {
  "kernelspec": {
   "display_name": "Python 3",
   "language": "python",
   "name": "python3"
  },
  "language_info": {
   "codemirror_mode": {
    "name": "ipython",
    "version": 3
   },
   "file_extension": ".py",
   "mimetype": "text/x-python",
   "name": "python",
   "nbconvert_exporter": "python",
   "pygments_lexer": "ipython3",
   "version": "3.11.1"
  }
 },
 "nbformat": 4,
 "nbformat_minor": 4
}
