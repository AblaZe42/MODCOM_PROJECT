{
 "cells": [
  {
   "cell_type": "code",
   "execution_count": 82,
   "metadata": {},
   "outputs": [],
   "source": [
    "import pandas as pd \n",
    "import numpy as np\n",
    "import matplotlib.pyplot as plt\n",
    "import networkx as nx\n",
    "\n",
    "#Matrix operations\n",
    "from itertools import product\n"
   ]
  },
  {
   "cell_type": "markdown",
   "metadata": {},
   "source": [
    "# Forward simulation"
   ]
  },
  {
   "cell_type": "markdown",
   "metadata": {},
   "source": [
    "### Variables"
   ]
  },
  {
   "cell_type": "code",
   "execution_count": 83,
   "metadata": {},
   "outputs": [
    {
     "name": "stdout",
     "output_type": "stream",
     "text": [
      "[7, 8, 1, 10, 6, 9, 3, 5, 11, 4, 2]\n",
      "[-1, [7, 8], [4, 8], [9, 8], [11, 8, 9], [9, 8], [7, 10], [], [], [10, 6], [7], [9, 8]]\n"
     ]
    }
   ],
   "source": [
    "alpha = 0.5\n",
    "nodes = [7, 8, 1, 10, 6, 9, 3, 5, 11, 4, 2]\n",
    "parents_top = [[], [], [7, 8], [7], [7,10], [10,6], [9,8], [9,8], [9,8], [11, 8, 9], [4, 8]]\n",
    "\n",
    "# Switch the from topological order to index order\n",
    "def node_to_index(nodes, parents):\n",
    "    reordered_parents = [-1] * (max(nodes) + 1)\n",
    "    for node, parent in zip(nodes, parents):\n",
    "        reordered_parents[node] = parent\n",
    "    return reordered_parents[1:max(nodes)+1]\n",
    "parents = node_to_index(nodes, parents_top)\n",
    "parents.insert(0, -1)\n",
    "\n",
    "print(nodes)\n",
    "print(parents)"
   ]
  },
  {
   "cell_type": "markdown",
   "metadata": {},
   "source": [
    "### Genereate cpd's"
   ]
  },
  {
   "cell_type": "code",
   "execution_count": 84,
   "metadata": {},
   "outputs": [
    {
     "name": "stdout",
     "output_type": "stream",
     "text": [
      "[0.875]\n"
     ]
    }
   ],
   "source": [
    "def synthetic_cpd(alpha, parent):\n",
    "    # Create all possible combinations of parent values\n",
    "    df = pd.DataFrame(list(product([0, 1], repeat=len(parent))), columns=parent)\n",
    "    df['prob'] = 1 - alpha ** (1 + df.sum(axis=1)) # P(X=1|parents)\n",
    "    return df\n",
    "\n",
    "df_x7 = synthetic_cpd(alpha, parents[7])\n",
    "df_x8 = synthetic_cpd(alpha, parents[8])\n",
    "df_x1 = synthetic_cpd(alpha, parents[1])\n",
    "df_x10 = synthetic_cpd(alpha, parents[10])\n",
    "df_x6 = synthetic_cpd(alpha, parents[6])\n",
    "df_x9 = synthetic_cpd(alpha, parents[9])\n",
    "df_x3 = synthetic_cpd(alpha, parents[3])\n",
    "df_x5 = synthetic_cpd(alpha, parents[5])\n",
    "df_x11 = synthetic_cpd(alpha, parents[11])\n",
    "df_x4 = synthetic_cpd(alpha, parents[4])\n",
    "df_x2 = synthetic_cpd(alpha, parents[2])\n",
    "\n",
    "print(df_x1[(df_x1[7] == 1) & (df_x1[8] == 1)]['prob'].values)\n"
   ]
  },
  {
   "cell_type": "markdown",
   "metadata": {},
   "source": [
    "### Helper functions"
   ]
  },
  {
   "cell_type": "code",
   "execution_count": 85,
   "metadata": {},
   "outputs": [
    {
     "name": "stdout",
     "output_type": "stream",
     "text": [
      "0.5\n"
     ]
    }
   ],
   "source": [
    "# condition = (df_x1[8] == 1).values\n",
    "# print(condition)\n",
    "def get_parrents(df : pd.DataFrame) -> list:\n",
    "    return [col for col in df.columns if not str(col).startswith('prob')]\n",
    "\n",
    "# df -> The conditional probability table\n",
    "# state -> The state of the parents true/false\n",
    "# returns -> The probability of the state\n",
    "    # It's important that the state is given in the same order  as the columns of the dataframe.\n",
    "def return_probability(df : pd.DataFrame, state : list) -> int:\n",
    "    #Index of all columns that are not the probability\n",
    "    parents = [col for col in df.columns if not str(col).startswith('prob')]\n",
    "    # print(parents)\n",
    "    # Table where the row \n",
    "    condition = (df[parents] == state).all(axis=1)\n",
    "    # Get the probability of the condition\n",
    "    matching_probabilities = df.loc[condition, 'prob'] # returns the row where the condition is true\n",
    "    matching_probabilities = matching_probabilities.values # single value list\n",
    "\n",
    "    return matching_probabilities[0]\n",
    "\n",
    "print(return_probability(df_x1, [0,0]))\n",
    "\n"
   ]
  },
  {
   "cell_type": "markdown",
   "metadata": {},
   "source": [
    "### Simulate"
   ]
  },
  {
   "cell_type": "code",
   "execution_count": 86,
   "metadata": {},
   "outputs": [
    {
     "name": "stdout",
     "output_type": "stream",
     "text": [
      "Simulating\n",
      "(X7, p) =  (1, 0.5) pa =  []\n",
      "(X8, p) =  (1, 0.5) pa =  []\n",
      "(X1, p) =  (1, 0.875) pa =  [7, 8]\n",
      "(X10, p) =  (1, 0.75) pa =  [7]\n",
      "(X6, p) =  (1, 0.875) pa =  [7, 10]\n",
      "(X9, p) =  (0, 0.875) pa =  [10, 6]\n",
      "(X3, p) =  (1, 0.75) pa =  [9, 8]\n",
      "(X5, p) =  (1, 0.75) pa =  [9, 8]\n",
      "(X11, p) =  (1, 0.75) pa =  [9, 8]\n",
      "(X4, p) =  (1, 0.875) pa =  [11, 8, 9]\n",
      "(X2, p) =  (1, 0.875) pa =  [4, 8]\n"
     ]
    },
    {
     "data": {
      "text/plain": [
       "[1, 1, 1, 1, 1, 1, 1, 1, 0, 1, 1]"
      ]
     },
     "execution_count": 86,
     "metadata": {},
     "output_type": "execute_result"
    }
   ],
   "source": [
    "def simulate_binomial(nodes, print_outcomes = False):\n",
    "    # Simulate\n",
    "    X7, X8 = np.random.binomial(n=1, p=df_x7['prob']), np.random.binomial(n=1, p=df_x8['prob'])\n",
    "    X7, X8 = X7[0], X8[0] # We want the value as an integer, not a list\n",
    "\n",
    "    p_x1 = return_probability(df_x1, [X7, X8])\n",
    "    X1 = np.random.binomial(n=1, p=p_x1)\n",
    "\n",
    "    p_x10 = return_probability(df_x10, [X7])\n",
    "    X10 = np.random.binomial(n=1, p=p_x10)\n",
    "\n",
    "    p_x6 = return_probability(df_x6, [X7, X10])\n",
    "    X6 = np.random.binomial(n=1, p=p_x6)\n",
    "\n",
    "    p_x9 = return_probability(df_x9, [X10, X6])\n",
    "    X9 = np.random.binomial(n=1, p=p_x9)\n",
    "\n",
    "    p_x3 = return_probability(df_x3, [X9, X8])\n",
    "    X3 = np.random.binomial(n=1, p=p_x3)\n",
    "\n",
    "    p_x5 = return_probability(df_x5, [X9, X8])\n",
    "    X5 = np.random.binomial(n=1, p=p_x5)\n",
    "\n",
    "    p_x11 = return_probability(df_x11, [X9, X8])\n",
    "    X11 = np.random.binomial(n=1, p=p_x11)\n",
    "\n",
    "    p_x4 = return_probability(df_x4, [X11, X8, X9])\n",
    "    X4 = np.random.binomial(n=1, p=p_x4)\n",
    "\n",
    "    p_x2 = return_probability(df_x2, [X4, X8])\n",
    "    X2 = np.random.binomial(n=1, p=p_x2)\n",
    "\n",
    "    if print_outcomes:\n",
    "        print('Simulating')\n",
    "        print('(X7, p) = ', ((X7, df_x7['prob'][0])), 'pa = ', get_parrents(df_x7)) \n",
    "        print('(X8, p) = ', ((X8, df_x8['prob'][0])), 'pa = ', get_parrents(df_x8))\n",
    "        print('(X1, p) = ', ((X1, p_x1)), 'pa = ', get_parrents(df_x1))\n",
    "        print('(X10, p) = ', ((X10, p_x10)), 'pa = ', get_parrents(df_x10))\n",
    "        print('(X6, p) = ', ((X6, p_x6)), 'pa = ', get_parrents(df_x6))\n",
    "        print('(X9, p) = ', ((X9, p_x9)), 'pa = ', get_parrents(df_x9))\n",
    "        print('(X3, p) = ', ((X3, p_x3)), 'pa = ', get_parrents(df_x3))\n",
    "        print('(X5, p) = ', ((X5, p_x5)), 'pa = ', get_parrents(df_x5))\n",
    "        print('(X11, p) = ', ((X11, p_x11)), 'pa = ', get_parrents(df_x11))\n",
    "        print('(X4, p) = ', ((X4, p_x4)), 'pa = ', get_parrents(df_x4))\n",
    "        print('(X2, p) = ', ((X2, p_x2)), 'pa = ', get_parrents(df_x2))\n",
    "    return [X1, X2, X3, X4, X5, X6, X7, X8, X9, X10, X11]\n",
    "\n",
    "\n",
    "simulate_binomial(nodes, True)"
   ]
  },
  {
   "cell_type": "code",
   "execution_count": 87,
   "metadata": {},
   "outputs": [
    {
     "data": {
      "image/png": "[encoded data removed]",
      "text/plain": [
       "<Figure size 640x480 with 1 Axes>"
      ]
     },
     "metadata": {},
     "output_type": "display_data"
    }
   ],
   "source": [
    "def forward(alpha, n):\n",
    "    lst = []\n",
    "    for elm in range(0, n):\n",
    "        lst.append(simulate_binomial(nodes))\n",
    "    df=pd.DataFrame(lst,columns=['X1','X2','X3','X4','X5','X6','X7','X8','X9','X10','X11'])\n",
    "    return(df)\n",
    "\n",
    "# Calculate the percentage of 1's for each column\n",
    "percentages = forward(0.5, 100).mean() * 100  # mean() calculates the proportion of 1s, multiplying by 100 gives the percentage\n",
    "\n",
    "# Plotting\n",
    "fig, ax = plt.subplots()\n",
    "percentages.plot(kind='bar', ax=ax)\n",
    "ax.bar_label(ax.containers[0])\n",
    "ax.set_ylabel('Percentage of 1\\'s')\n",
    "ax.set_title('Percentage of 1\\'s in Each Column')\n",
    "plt.xticks(rotation=45)  # Rotate labels to make them readable\n",
    "plt.grid(axis='y', linestyle='--', linewidth=0.7)  # Add gridlines for better readability\n",
    "plt.show()"
   ]
  }
 ],
 "metadata": {
  "kernelspec": {
   "display_name": "Python 3",
   "language": "python",
   "name": "python3"
  },
  "language_info": {
   "codemirror_mode": {
    "name": "ipython",
    "version": 3
   },
   "file_extension": ".py",
   "mimetype": "text/x-python",
   "name": "python",
   "nbconvert_exporter": "python",
   "pygments_lexer": "ipython3",
   "version": "3.11.8"
  }
 },
 "nbformat": 4,
 "nbformat_minor": 2
}
