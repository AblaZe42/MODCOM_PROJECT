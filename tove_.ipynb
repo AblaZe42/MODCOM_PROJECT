{
 "cells": [
  {
   "cell_type": "code",
   "execution_count": 287,
   "metadata": {},
   "outputs": [],
   "source": [
    "import pandas as pd \n",
    "import numpy as np\n",
    "import matplotlib.pyplot as plt\n",
    "from sklearn.linear_model import LogisticRegression\n",
    "import warnings\n",
    "\n",
    "from itertools import product"
   ]
  },
  {
   "cell_type": "code",
   "execution_count": 288,
   "metadata": {},
   "outputs": [],
   "source": [
    "def create_factor(variable: str, parent_list: list):\n",
    "    \"\"\"\n",
    "    Creates a dataframe with all possible combinations of outcomes for parent- and child nodes\n",
    "\n",
    "    Arguments:\n",
    "    variable (string): The name of the child node, 'Xi'\n",
    "    parent_list (list): A list of strings, representing the parent nodes ['Xj', 'Xk']\n",
    "\n",
    "    Returns:\n",
    "    pandas.DataFrame: A dataframe with all possible outcomes\n",
    "    \"\"\"\n",
    "    d = 1 + len(parent_list)\n",
    "    columns = parent_list + [variable]\n",
    "    df = pd.DataFrame(product([0,1],repeat=d),columns=columns)\n",
    "    return df\n",
    "\n",
    "def cpd_factor(variable: str, parent_list: list, alpha: float):\n",
    "    \"\"\" \n",
    "    Creates a factor using the create_factor() function, and adds a factor value to each outcome \n",
    "\n",
    "    Arguments:\n",
    "    variable (string): The name of the child node\n",
    "    parent_list (list): The names of the parent nodes\n",
    "    alpha (float): The alpha parameter\n",
    "\n",
    "    Returns:\n",
    "    pandas.DataFrame: A factor, in the form of a pandas dataframe\n",
    "\n",
    "    \"\"\"\n",
    "    cpd = create_factor(variable, parent_list)\n",
    "    variables = list(cpd.columns)\n",
    "    n = len(variables)\n",
    "    cpd_ = cpd.copy() \n",
    "    if n == 1:\n",
    "        cpd_[\"prob\"] = 1 - alpha\n",
    "        return cpd_\n",
    "    else:\n",
    "        child = variables[n-1]\n",
    "        # generate factor \n",
    "        parents = cpd_.iloc[:,:-1].copy()\n",
    "        parents[\"sum\"] = parents.sum(axis=1)\n",
    "        cpd_[\"prob\"] = 1 - (alpha ** (1 + parents[\"sum\"]))\n",
    "        # dataframe.where() updates the probability where condition is false\n",
    "        # St. we can compute the probability of P(X=0|parents) = 1 - P(X=1|parents)\n",
    "        cpd_[\"prob\"].where(cpd_[f\"{child}\"] == 1, 1-cpd_[\"prob\"],axis=0,inplace=True)\n",
    "        return cpd_\n",
    "\n"
   ]
  },
  {
   "cell_type": "code",
   "execution_count": 289,
   "metadata": {},
   "outputs": [],
   "source": [
    "def factor_product(factor_1: pd.DataFrame, factor_2: pd.DataFrame):\n",
    "    \"\"\"\n",
    "    Multiplies two factors \n",
    "\n",
    "    Arguments:\n",
    "    factor1 (pandas.DataFrame): a factor in the form of a dataframe\n",
    "    factor2 (pandas.DataFrame): a factor in the form of a dataframe\n",
    "\n",
    "    Returns:\n",
    "    new_factor (pandas.DataFrame): A new factor, joined at the common nodes, with the factor values multiplied\n",
    "\n",
    "    \"\"\"\n",
    "    # List of all common nodes to join on\n",
    "    nodes_to_join = factor_1.columns.intersection(factor_2.columns)\n",
    "    nodes_to_join = nodes_to_join.drop(\"prob\")\n",
    "    nodes = list(nodes_to_join)\n",
    "\n",
    "    # Inner join the factors by common nodes\n",
    "    new_factor = factor_1.merge(factor_2, how='inner', on=nodes)\n",
    "    new_factor[\"prob\"] = new_factor[\"prob_x\"]*new_factor[\"prob_y\"] # Multiply the probabilities\n",
    "    new_factor = new_factor.drop(columns=[\"prob_x\",\"prob_y\"])\n",
    "    return new_factor"
   ]
  },
  {
   "cell_type": "code",
   "execution_count": 290,
   "metadata": {},
   "outputs": [],
   "source": [
    "# From algorithm 9.1 in the book (p. 298)\n",
    "def sum_product_eliminate_var(factors : list, var : str, print_info = False):\n",
    "    \"\"\"\n",
    "    Eliminates one variable and multiplies all factors with that variable in their scope\n",
    "\n",
    "    Arguments:\n",
    "    factors (list): The set of all factors currently in the network\n",
    "    var (str): The name of the variable to be eliminated\n",
    "    print_info (bool): Command to print debugging information or not\n",
    "\n",
    "    Returns: \n",
    "    list: A list containing the factors without the eliminated variable in the scope plus the product of the factors with the eliminated variable in the scope \n",
    "    \"\"\"\n",
    "    factors_list = [i[0] for i in factors] # Factors\n",
    "    names_list = [i[1] for i in factors] # Names of factors\n",
    "\n",
    "    lst_scope = []   # Factors in scope\n",
    "    lst_scope_i = [] # Names of factors in scope   \n",
    "    lst_not_scope = [] # Factors not in scope\n",
    "    lst_not_scope_i = [] # Names of factors not in scope\n",
    "\n",
    "    # Split factors into variable in scope and variable not in scope\n",
    "    for i in range(0, len(factors_list)):\n",
    "        if var in factors_list[i].columns:\n",
    "            lst_scope.append(factors_list[i])\n",
    "            lst_scope_i.append(names_list[i])\n",
    "        else:\n",
    "            lst_not_scope.append(factors_list[i])\n",
    "            lst_not_scope_i.append(names_list[i])\n",
    "\n",
    "    # Multiply all factors with variable in scope\n",
    "    factor_ = lst_scope[0]\n",
    "    for i in range(1, len(lst_scope)):\n",
    "        factor_ = factor_product(factor_, lst_scope[i])\n",
    "\n",
    "    # All variables that should not be marginalized\n",
    "    col = list(factor_.columns[factor_.columns != var].drop(\"prob\")) \n",
    "\n",
    "    # Marginalize the variable / sum out variable\n",
    "    tau = factor_.groupby(col, as_index = False)['prob'].sum()\n",
    "    tau_name = 'tau_' + str(var) \n",
    "\n",
    "    # Add the new factor to the list of factors not in scope\n",
    "    lst_not_scope = lst_not_scope + [tau]\n",
    "    lst_not_scope_i = lst_not_scope_i + [tau_name]\n",
    "    \n",
    "    # Debugging prints\n",
    "    if print_info:\n",
    "        for elm in lst_scope:\n",
    "            print(elm.columns)\n",
    "        print(lst_scope_i)\n",
    "\n",
    "    return list(zip(lst_not_scope, lst_not_scope_i))"
   ]
  },
  {
   "cell_type": "code",
   "execution_count": 291,
   "metadata": {},
   "outputs": [],
   "source": [
    "def sum_product_ve(factors: list, order: list):\n",
    "    \"\"\" \n",
    "    Run the sum_product_eliminate_var() function on all variables to be eliminated\n",
    "\n",
    "    Arguments:\n",
    "    factors (list): list of factors\n",
    "    order (list): list of variables in elimination order\n",
    "\n",
    "    Returns:\n",
    "    factors (list): list of remaining factors after eliminating all variables in the elimination order\n",
    "    \"\"\"\n",
    "\n",
    "    # For each variable in the elimination order\n",
    "    for var in order:\n",
    "        factors = sum_product_eliminate_var(factors, var)\n",
    "\n",
    "    factors_list = [i[0] for i in factors] # Factors\n",
    "    names_list = [i[1] for i in factors] # Names of factors\n",
    "\n",
    "    factor_ = factors_list[0]\n",
    "    for i in range(1, len(factors_list)):\n",
    "        factor_ = factor_product(factor_, factors_list[i])\n",
    "\n",
    "\n",
    "    \n",
    "    return [(factor_,'Sum-Product')]"
   ]
  },
  {
   "cell_type": "code",
   "execution_count": 292,
   "metadata": {},
   "outputs": [],
   "source": [
    "def cond_prob_ve (factors: list, queries: list, evidence: list, order: list):\n",
    "    \"\"\" \n",
    "    Calculates the conditional probability of the query variables, given evidence. Corresponds to Algorithm 9.2 in PGM.\n",
    "\n",
    "    Arguments: \n",
    "    factors (list): list of factors\n",
    "    queries (list): list of variables (string) to be inferred\n",
    "    evidence (list): list of tuples containing the name and a value of a variable, e.g. ('X1',1) corresponding to X1=1.as_integer_ratio\n",
    "    order (list): list of variables in elimination order\n",
    "\n",
    "    Returns:\n",
    "    alpha (pd.DataFrame): CPD table containing the conditional distribution of the query variables given the evidence\n",
    "    phi (list of tuples): list containing tuples of factors and the name of the factor e.g. (pd.DataFrame, 'phi_Xi')\n",
    "    \"\"\"\n",
    "    order_ = order.copy() # Fix for wierd python handeling of list\n",
    "    factors_list = [i[0] for i in factors] # Factors\n",
    "    names_list = [i[1] for i in factors] # Names of factors\n",
    "\n",
    "    for i in range(0,len(factors_list)): # Loop through factors\n",
    "        for elm in evidence: # Loop through evidence\n",
    "            if elm[0] in factors_list[i].columns:\n",
    "                # Retrict factor to evidence == e, and replace in factor list\n",
    "                factors_list[i] = factors_list[i][factors_list[i][elm[0]]==elm[1]]\n",
    "    \n",
    "    # Remove elements we want to keep from elemination order\n",
    "    for elm in evidence:\n",
    "        if elm[0] in order_:\n",
    "            order_.remove(elm[0])\n",
    "    \n",
    "    for var in queries:\n",
    "        if var in order_:\n",
    "            order_.remove(var)\n",
    "    \n",
    "    concat_factor_list = list(zip(factors_list,names_list))\n",
    "    \n",
    "    phi = sum_product_ve(concat_factor_list, order_)\n",
    "\n",
    "    alpha = phi[0][0].groupby(queries, as_index = False)['prob'].sum()\n",
    "    alpha['prob'] = alpha['prob'] / alpha['prob'].sum() # Normalize the probability\n",
    "   \n",
    "    return alpha, phi"
   ]
  },
  {
   "cell_type": "markdown",
   "metadata": {},
   "source": [
    "# Test"
   ]
  },
  {
   "cell_type": "code",
   "execution_count": 293,
   "metadata": {},
   "outputs": [],
   "source": [
    "alpha = 0.5"
   ]
  },
  {
   "cell_type": "code",
   "execution_count": 294,
   "metadata": {},
   "outputs": [],
   "source": [
    "# The scope consist of the parents and the node itself\n",
    "variables_to_eliminate = ['X1', 'X2', 'X3', 'X4', 'X5', 'X6', 'X7', 'X8', 'X9']\n",
    "elimination_scope = [(\"X1\", ['X7', 'X8']),(\"X2\", ['X4', 'X8']),(\"X3\", ['X9', 'X8']),\n",
    "                     (\"X5\", ['X9', 'X8']),(\"X4\", ['X11', 'X8', 'X9']),(\"X6\", ['X7', 'X10']),\n",
    "                     (\"X7\", []),(\"X8\", []),(\"X9\", ['X10', 'X6']), (\"X10\", ['X7']),(\"X11\", ['X8', 'X9'])]\n"
   ]
  },
  {
   "cell_type": "code",
   "execution_count": 295,
   "metadata": {},
   "outputs": [],
   "source": [
    "# Generate factors for all nodes\n",
    "# list form: [(factor, variable name), ... ]\n",
    "factor_list = []\n",
    "for elm in elimination_scope:\n",
    "    name = 'phi_' + str(elm[0])\n",
    "    cpd = cpd_factor(elm[0], elm[1], alpha)\n",
    "    factor_list.append((cpd, name))"
   ]
  },
  {
   "cell_type": "code",
   "execution_count": 296,
   "metadata": {},
   "outputs": [],
   "source": [
    "#print(sum_product_ve(factor_list, variables_to_eliminate))"
   ]
  },
  {
   "cell_type": "code",
   "execution_count": 297,
   "metadata": {},
   "outputs": [
    {
     "data": {
      "text/plain": [
       "(   X11  prob\n",
       " 0    0   0.5\n",
       " 1    1   0.5,\n",
       " [(   X8  X9  X11      prob\n",
       "   0   0   0    0  0.056152\n",
       "   1   0   0    1  0.056152,\n",
       "   'Sum-Product')])"
      ]
     },
     "execution_count": 297,
     "metadata": {},
     "output_type": "execute_result"
    }
   ],
   "source": [
    "# evidence - observed values e for variables in E\n",
    "#evidence = [('X1', 1), ('X2',1), ('X3',1),('X4',1),(\"X5\",1),('X6',1),('X7',1),('X8',1),('X9',1)] # Change the values to your preference.\n",
    "evidence = [('X8',0),('X9',0)]\n",
    "#evidence = [('X7',0)]\n",
    "\n",
    "# If a variable is in query it cannot be in variables_to_eliminate\n",
    "# order - Elimination order (order)\n",
    "variables_to_eliminate = ['X1', 'X2', 'X3', 'X4', 'X5', 'X6', 'X7','X8', 'X9', 'X10', 'X11']\n",
    "\n",
    "# query_var - Set of query variables Y to be inferred\n",
    "query_var = ['X11']\n",
    "#query_var = ['X10']\n",
    "\n",
    "cond_prob_ve(factor_list, query_var, evidence, variables_to_eliminate)"
   ]
  }
 ],
 "metadata": {
  "kernelspec": {
   "display_name": "Python 3.9.13 ('base')",
   "language": "python",
   "name": "python3"
  },
  "language_info": {
   "codemirror_mode": {
    "name": "ipython",
    "version": 3
   },
   "file_extension": ".py",
   "mimetype": "text/x-python",
   "name": "python",
   "nbconvert_exporter": "python",
   "pygments_lexer": "ipython3",
   "version": "3.9.13"
  },
  "orig_nbformat": 4,
  "vscode": {
   "interpreter": {
    "hash": "5752aa9ab330d3759c83a1b34e6976ab41b98e9e7a9be5fc074dbcab196bea16"
   }
  }
 },
 "nbformat": 4,
 "nbformat_minor": 2
}
